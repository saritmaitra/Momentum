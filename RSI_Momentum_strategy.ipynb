{
  "nbformat": 4,
  "nbformat_minor": 0,
  "metadata": {
    "colab": {
      "name": "RSI_Momentum strategy.ipynb",
      "provenance": [],
      "authorship_tag": "ABX9TyO35xhC33y2tsO/XSCufJuF",
      "include_colab_link": true
    },
    "kernelspec": {
      "name": "python3",
      "display_name": "Python 3"
    },
    "language_info": {
      "name": "python"
    }
  },
  "cells": [
    {
      "cell_type": "markdown",
      "metadata": {
        "id": "view-in-github",
        "colab_type": "text"
      },
      "source": [
        "<a href=\"https://colab.research.google.com/github/saritmaitra/Momentum_Trading/blob/main/RSI_Momentum_strategy.ipynb\" target=\"_parent\"><img src=\"https://colab.research.google.com/assets/colab-badge.svg\" alt=\"Open In Colab\"/></a>"
      ]
    },
    {
      "cell_type": "markdown",
      "metadata": {
        "id": "ST_TfLnBl6az"
      },
      "source": [
        "A momentum strategy basically bets on the continuation of an existing market trend. For example, if the market is or starts going up, we will bet that the trend will continue for a while and we will try to make our trading strategy based on this.\n",
        "\n",
        "Momentum indicators can help us locate the entry and exit points to follow momentum strategies. One of this type of indicators is the Relative Strength Index (RSI). This indicator is the one that we will use in order to define our backtesting strategy with Python.\n",
        "\n",
        "## Relative Strength Index (RSI)\n",
        "The Relative Strength Index (RSI) is a technical indicator that measures the speed and change of price movements. It was developed by J. Welles Wilder."
      ]
    },
    {
      "cell_type": "code",
      "metadata": {
        "id": "TJ3Q1CnOdVTo"
      },
      "source": [
        "!pip install yfinance\n",
        "import yfinance as yf\n",
        "import datetime as dt\n",
        "import matplotlib.pyplot as plt\n",
        "import matplotlib.transforms as transform\n",
        "import matplotlib.gridspec as gridspec\n",
        "import pandas as pd\n",
        "from pandas.tseries.offsets import MonthEnd\n",
        "pd.options.mode.chained_assignment = None\n",
        "pd.set_option('use_inf_as_na', True)\n",
        "from pandas import DataFrame, concat"
      ],
      "execution_count": null,
      "outputs": []
    },
    {
      "cell_type": "code",
      "metadata": {
        "colab": {
          "base_uri": "https://localhost:8080/"
        },
        "id": "BecBcyseddDm",
        "outputId": "9923b44d-6fc5-4018-efe4-75b1368e2f56"
      },
      "source": [
        "ticker = \"CL=F\"\n",
        "start_date = dt.datetime(2018,1,1)\n",
        "end_date = dt.datetime(2020,12,31)\n",
        "class DataBase():\n",
        "  def __init__(self, ticker, days):\n",
        "    self.ticker = ticker\n",
        "    data = yf.download(ticker, start = start_date, end =end_date )\n",
        "    self.df = DataFrame(data)\n",
        "    pd.set_option(\"display.max_columns\", None)\n",
        "    self.df[self.df.index.dayofweek < 4]\n",
        "    self.df= self.df[-days:]\n",
        "\n",
        "  def quote(self):\n",
        "    return self.df\n",
        "\n",
        "db = DataBase(ticker, 1000)\n",
        "df = db.quote()\n",
        "print(df.tail(10))\n",
        "\n",
        "df['MA_14'] = df['Adj Close'].rolling(window=14).mean()\n",
        "df.dropna(inplace=True)\n",
        "\n",
        "# plt.rcParams.update({'font.size': 10})\n",
        "# fig, ax1 = plt.subplots(figsize = (15,6))\n",
        "# ax1.set_ylabel(\"Price in US$\")\n",
        "# ax1.set_xlabel(\"Timestamp\")\n",
        "# ax1.plot('Adj Close', data=df, label = \"Adj Close Price\")\n",
        "# ax1.plot('MA_15', data=df, label = \"3 weeks MA\"); plt.grid(True)\n",
        "# ax1.set_title('Crude Oil price & 15 days rolling average')\n",
        "# plt.show()"
      ],
      "execution_count": 2,
      "outputs": [
        {
          "output_type": "stream",
          "text": [
            "\r[*********************100%***********************]  1 of 1 completed\n",
            "                 Open       High        Low      Close  Adj Close  Volume\n",
            "Date                                                                     \n",
            "2020-12-15  46.990002  47.730000  46.540001  47.619999  47.619999  311169\n",
            "2020-12-16  47.599998  47.939999  47.169998  47.820000  47.820000  275331\n",
            "2020-12-17  47.849998  48.590000  47.810001  48.360001  48.360001   96536\n",
            "2020-12-18  48.430000  49.279999  48.099998  49.099998  49.099998   83711\n",
            "2020-12-21  48.540001  48.610001  46.180000  47.740002  47.740002  478098\n",
            "2020-12-22  47.930000  47.959999  46.599998  47.020000  47.020000  295737\n",
            "2020-12-23  46.790001  48.500000  46.160000  48.119999  48.119999  344306\n",
            "2020-12-28  48.230000  48.959999  47.500000  47.619999  47.619999  238462\n",
            "2020-12-29  47.720001  48.349998  47.680000  48.000000  48.000000  213778\n",
            "2020-12-30  48.130001  48.660000  47.610001  48.400002  48.400002  266957\n"
          ],
          "name": "stdout"
        }
      ]
    },
    {
      "cell_type": "code",
      "metadata": {
        "colab": {
          "base_uri": "https://localhost:8080/",
          "height": 350
        },
        "id": "_D8d6IZ2FxFc",
        "outputId": "cd262805-f186-4532-90c1-09e9719996c6"
      },
      "source": [
        "df['MA_14'] = df['Adj Close'].rolling(window=14).mean()\n",
        "df.dropna(inplace=True)\n",
        "\n",
        "plt.rcParams.update({'font.size': 10})\n",
        "fig, ax1 = plt.subplots(figsize = (10,5))\n",
        "ax1.set_ylabel(\"Price in US$\")\n",
        "ax1.set_xlabel(\"Timestamp\")\n",
        "ax1.plot('Adj Close', data=df, label = \"Adj Close Price\")\n",
        "ax1.plot('MA_14', data=df, label = \"14 days MA\"); plt.grid(True)\n",
        "ax1.set_title('Crude Oil price & 14 days rolling average')\n",
        "plt.show()"
      ],
      "execution_count": 3,
      "outputs": [
        {
          "output_type": "display_data",
          "data": {
            "image/png": "[encoded data removed]",
            "text/plain": [
              "<Figure size 720x360 with 1 Axes>"
            ]
          },
          "metadata": {
            "tags": [],
            "needs_background": "light"
          }
        }
      ]
    },
    {
      "cell_type": "markdown",
      "metadata": {
        "id": "7eKXOJzseVOF"
      },
      "source": [
        "It measures the relative strength of upside and downside moves in security prices.\n",
        "\n",
        "## Formula:\n",
        "\n",
        "- RSI = 100 – 100 / ( 1 + RS )\n",
        "- RS = Relative Strength = AvgU / AvgD\n",
        "- AvgU = average of all up moves in the last N price bars\n",
        "- AvgD = average of all down moves in the last N price bars\n",
        "- N = the period of RSI\n",
        "\n",
        "## RSI values\n",
        "The Relative Strenght Index can reach values from 0 to 100. \n",
        "- Values close to zero are a sign of declining (bearish) market; \n",
        "- values close to 100 occur when prices are rising and the rises are greater than the declines.\n",
        "\n",
        "High RSI means that the second part of the RSI formula (behind the minus sign) is very small and RS is very large, which means that recent up moves have been much greater than recent down moves. In other words, high RSI values are a sign of bullish market (which may be overbought – depending on your particular view and trading style).\n",
        "\n",
        "Conversely, low RSI means that RS is also low and recent down moves have been much greater than recent up moves – in other words, bearish (and possibly oversold) market.\n",
        "\n",
        "When there are no down moves and AvgD is zero, RS can’t be calculated (you would be dividing by zero). In such case, we can consider RS close to infinite and RSI is 100.\n",
        "\n",
        "## RSI overbought and oversold\n",
        "- RSI value over 80 or 90 is considered overbought.\n",
        "- RSI value under 20 or 10 is considered oversold.\n",
        "\n",
        "The tighter condition we choose (higher RSI value for overbought condition, lower RSI value for oversold condition), the fewer times RSI will get to the overbought or oversold territory and the fewer signals or trading situations we get."
      ]
    },
    {
      "cell_type": "code",
      "metadata": {
        "colab": {
          "base_uri": "https://localhost:8080/",
          "height": 447
        },
        "id": "Tbohj0CmeEz1",
        "outputId": "a0770ba8-870b-4cd6-cb66-1b1dd970c2d5"
      },
      "source": [
        "df['price_change'] = df['Adj Close'].pct_change()\n",
        "df = df.dropna()\n",
        "\n",
        "# https://www.macroption.com/rsi/ \n",
        "\n",
        "df['up_move'] = df['price_change'].apply(lambda x: x if x > 0 else 0)\n",
        "df['down_move'] = df['price_change'].apply(lambda x: abs(x) if x < 0 else 0)\n",
        "\n",
        "df['avg_up'] = df['up_move'].ewm(span=15).mean()\n",
        "df['avg_down'] = df['down_move'].ewm(span=15).mean()\n",
        "df = df.dropna()\n",
        "\n",
        "df['RS'] = df['avg_up'] / df['avg_down']\n",
        "df = df.dropna()\n",
        "df['RSI'] = df['RS'].apply(lambda x: 100 - (100/(x+1)))\n",
        "\n",
        "df.loc[(df['Adj Close'] > df['MA_14']) & (df['RSI'] > 30), \"BUY\"] = 'YES'\n",
        "df.loc[(df['Adj Close'] < df['MA_14']) | (df['RSI'] < 30), \"BUY\"] = 'NO'\n",
        "df"
      ],
      "execution_count": 4,
      "outputs": [
        {
          "output_type": "execute_result",
          "data": {
            "text/html": [
              "<div>\n",
              "<style scoped>\n",
              "    .dataframe tbody tr th:only-of-type {\n",
              "        vertical-align: middle;\n",
              "    }\n",
              "\n",
              "    .dataframe tbody tr th {\n",
              "        vertical-align: top;\n",
              "    }\n",
              "\n",
              "    .dataframe thead th {\n",
              "        text-align: right;\n",
              "    }\n",
              "</style>\n",
              "<table border=\"1\" class=\"dataframe\">\n",
              "  <thead>\n",
              "    <tr style=\"text-align: right;\">\n",
              "      <th></th>\n",
              "      <th>Open</th>\n",
              "      <th>High</th>\n",
              "      <th>Low</th>\n",
              "      <th>Close</th>\n",
              "      <th>Adj Close</th>\n",
              "      <th>Volume</th>\n",
              "      <th>MA_14</th>\n",
              "      <th>price_change</th>\n",
              "      <th>up_move</th>\n",
              "      <th>down_move</th>\n",
              "      <th>avg_up</th>\n",
              "      <th>avg_down</th>\n",
              "      <th>RS</th>\n",
              "      <th>RSI</th>\n",
              "      <th>BUY</th>\n",
              "    </tr>\n",
              "    <tr>\n",
              "      <th>Date</th>\n",
              "      <th></th>\n",
              "      <th></th>\n",
              "      <th></th>\n",
              "      <th></th>\n",
              "      <th></th>\n",
              "      <th></th>\n",
              "      <th></th>\n",
              "      <th></th>\n",
              "      <th></th>\n",
              "      <th></th>\n",
              "      <th></th>\n",
              "      <th></th>\n",
              "      <th></th>\n",
              "      <th></th>\n",
              "      <th></th>\n",
              "    </tr>\n",
              "  </thead>\n",
              "  <tbody>\n",
              "    <tr>\n",
              "      <th>2018-02-09</th>\n",
              "      <td>60.430000</td>\n",
              "      <td>60.770000</td>\n",
              "      <td>58.070000</td>\n",
              "      <td>59.200001</td>\n",
              "      <td>59.200001</td>\n",
              "      <td>933307</td>\n",
              "      <td>64.103572</td>\n",
              "      <td>-0.031889</td>\n",
              "      <td>0.000000</td>\n",
              "      <td>0.031889</td>\n",
              "      <td>0.000000</td>\n",
              "      <td>0.031889</td>\n",
              "      <td>0.000000</td>\n",
              "      <td>0.000000</td>\n",
              "      <td>NO</td>\n",
              "    </tr>\n",
              "    <tr>\n",
              "      <th>2018-02-12</th>\n",
              "      <td>59.119999</td>\n",
              "      <td>60.830002</td>\n",
              "      <td>59.099998</td>\n",
              "      <td>59.290001</td>\n",
              "      <td>59.290001</td>\n",
              "      <td>736917</td>\n",
              "      <td>63.733572</td>\n",
              "      <td>0.001520</td>\n",
              "      <td>0.001520</td>\n",
              "      <td>0.000000</td>\n",
              "      <td>0.000811</td>\n",
              "      <td>0.014881</td>\n",
              "      <td>0.054485</td>\n",
              "      <td>5.166957</td>\n",
              "      <td>NO</td>\n",
              "    </tr>\n",
              "    <tr>\n",
              "      <th>2018-02-13</th>\n",
              "      <td>59.349998</td>\n",
              "      <td>59.730000</td>\n",
              "      <td>58.389999</td>\n",
              "      <td>59.189999</td>\n",
              "      <td>59.189999</td>\n",
              "      <td>580600</td>\n",
              "      <td>63.275000</td>\n",
              "      <td>-0.001687</td>\n",
              "      <td>0.000000</td>\n",
              "      <td>0.001687</td>\n",
              "      <td>0.000504</td>\n",
              "      <td>0.009885</td>\n",
              "      <td>0.050964</td>\n",
              "      <td>4.849263</td>\n",
              "      <td>NO</td>\n",
              "    </tr>\n",
              "    <tr>\n",
              "      <th>2018-02-14</th>\n",
              "      <td>58.980000</td>\n",
              "      <td>60.900002</td>\n",
              "      <td>58.200001</td>\n",
              "      <td>60.599998</td>\n",
              "      <td>60.599998</td>\n",
              "      <td>650324</td>\n",
              "      <td>62.924286</td>\n",
              "      <td>0.023822</td>\n",
              "      <td>0.023822</td>\n",
              "      <td>0.000000</td>\n",
              "      <td>0.007547</td>\n",
              "      <td>0.006899</td>\n",
              "      <td>1.093994</td>\n",
              "      <td>52.244364</td>\n",
              "      <td>NO</td>\n",
              "    </tr>\n",
              "    <tr>\n",
              "      <th>2018-02-15</th>\n",
              "      <td>60.709999</td>\n",
              "      <td>61.639999</td>\n",
              "      <td>59.720001</td>\n",
              "      <td>61.340000</td>\n",
              "      <td>61.340000</td>\n",
              "      <td>340401</td>\n",
              "      <td>62.581429</td>\n",
              "      <td>0.012211</td>\n",
              "      <td>0.012211</td>\n",
              "      <td>0.000000</td>\n",
              "      <td>0.008744</td>\n",
              "      <td>0.005128</td>\n",
              "      <td>1.705045</td>\n",
              "      <td>63.032043</td>\n",
              "      <td>NO</td>\n",
              "    </tr>\n",
              "    <tr>\n",
              "      <th>...</th>\n",
              "      <td>...</td>\n",
              "      <td>...</td>\n",
              "      <td>...</td>\n",
              "      <td>...</td>\n",
              "      <td>...</td>\n",
              "      <td>...</td>\n",
              "      <td>...</td>\n",
              "      <td>...</td>\n",
              "      <td>...</td>\n",
              "      <td>...</td>\n",
              "      <td>...</td>\n",
              "      <td>...</td>\n",
              "      <td>...</td>\n",
              "      <td>...</td>\n",
              "      <td>...</td>\n",
              "    </tr>\n",
              "    <tr>\n",
              "      <th>2020-12-22</th>\n",
              "      <td>47.930000</td>\n",
              "      <td>47.959999</td>\n",
              "      <td>46.599998</td>\n",
              "      <td>47.020000</td>\n",
              "      <td>47.020000</td>\n",
              "      <td>295737</td>\n",
              "      <td>46.912857</td>\n",
              "      <td>-0.015082</td>\n",
              "      <td>0.000000</td>\n",
              "      <td>0.015082</td>\n",
              "      <td>0.007858</td>\n",
              "      <td>0.006474</td>\n",
              "      <td>1.213878</td>\n",
              "      <td>54.830388</td>\n",
              "      <td>YES</td>\n",
              "    </tr>\n",
              "    <tr>\n",
              "      <th>2020-12-23</th>\n",
              "      <td>46.790001</td>\n",
              "      <td>48.500000</td>\n",
              "      <td>46.160000</td>\n",
              "      <td>48.119999</td>\n",
              "      <td>48.119999</td>\n",
              "      <td>344306</td>\n",
              "      <td>47.090000</td>\n",
              "      <td>0.023394</td>\n",
              "      <td>0.023394</td>\n",
              "      <td>0.000000</td>\n",
              "      <td>0.009800</td>\n",
              "      <td>0.005664</td>\n",
              "      <td>1.730139</td>\n",
              "      <td>63.371824</td>\n",
              "      <td>YES</td>\n",
              "    </tr>\n",
              "    <tr>\n",
              "      <th>2020-12-28</th>\n",
              "      <td>48.230000</td>\n",
              "      <td>48.959999</td>\n",
              "      <td>47.500000</td>\n",
              "      <td>47.619999</td>\n",
              "      <td>47.619999</td>\n",
              "      <td>238462</td>\n",
              "      <td>47.187143</td>\n",
              "      <td>-0.010391</td>\n",
              "      <td>0.000000</td>\n",
              "      <td>0.010391</td>\n",
              "      <td>0.008575</td>\n",
              "      <td>0.006255</td>\n",
              "      <td>1.370888</td>\n",
              "      <td>57.821705</td>\n",
              "      <td>YES</td>\n",
              "    </tr>\n",
              "    <tr>\n",
              "      <th>2020-12-29</th>\n",
              "      <td>47.720001</td>\n",
              "      <td>48.349998</td>\n",
              "      <td>47.680000</td>\n",
              "      <td>48.000000</td>\n",
              "      <td>48.000000</td>\n",
              "      <td>213778</td>\n",
              "      <td>47.347143</td>\n",
              "      <td>0.007980</td>\n",
              "      <td>0.007980</td>\n",
              "      <td>0.000000</td>\n",
              "      <td>0.008501</td>\n",
              "      <td>0.005473</td>\n",
              "      <td>1.553135</td>\n",
              "      <td>60.832460</td>\n",
              "      <td>YES</td>\n",
              "    </tr>\n",
              "    <tr>\n",
              "      <th>2020-12-30</th>\n",
              "      <td>48.130001</td>\n",
              "      <td>48.660000</td>\n",
              "      <td>47.610001</td>\n",
              "      <td>48.400002</td>\n",
              "      <td>48.400002</td>\n",
              "      <td>266957</td>\n",
              "      <td>47.547143</td>\n",
              "      <td>0.008333</td>\n",
              "      <td>0.008333</td>\n",
              "      <td>0.000000</td>\n",
              "      <td>0.008480</td>\n",
              "      <td>0.004789</td>\n",
              "      <td>1.770643</td>\n",
              "      <td>63.907301</td>\n",
              "      <td>YES</td>\n",
              "    </tr>\n",
              "  </tbody>\n",
              "</table>\n",
              "<p>720 rows × 15 columns</p>\n",
              "</div>"
            ],
            "text/plain": [
              "                 Open       High        Low      Close  Adj Close  Volume  \\\n",
              "Date                                                                        \n",
              "2018-02-09  60.430000  60.770000  58.070000  59.200001  59.200001  933307   \n",
              "2018-02-12  59.119999  60.830002  59.099998  59.290001  59.290001  736917   \n",
              "2018-02-13  59.349998  59.730000  58.389999  59.189999  59.189999  580600   \n",
              "2018-02-14  58.980000  60.900002  58.200001  60.599998  60.599998  650324   \n",
              "2018-02-15  60.709999  61.639999  59.720001  61.340000  61.340000  340401   \n",
              "...               ...        ...        ...        ...        ...     ...   \n",
              "2020-12-22  47.930000  47.959999  46.599998  47.020000  47.020000  295737   \n",
              "2020-12-23  46.790001  48.500000  46.160000  48.119999  48.119999  344306   \n",
              "2020-12-28  48.230000  48.959999  47.500000  47.619999  47.619999  238462   \n",
              "2020-12-29  47.720001  48.349998  47.680000  48.000000  48.000000  213778   \n",
              "2020-12-30  48.130001  48.660000  47.610001  48.400002  48.400002  266957   \n",
              "\n",
              "                MA_14  price_change   up_move  down_move    avg_up  avg_down  \\\n",
              "Date                                                                           \n",
              "2018-02-09  64.103572     -0.031889  0.000000   0.031889  0.000000  0.031889   \n",
              "2018-02-12  63.733572      0.001520  0.001520   0.000000  0.000811  0.014881   \n",
              "2018-02-13  63.275000     -0.001687  0.000000   0.001687  0.000504  0.009885   \n",
              "2018-02-14  62.924286      0.023822  0.023822   0.000000  0.007547  0.006899   \n",
              "2018-02-15  62.581429      0.012211  0.012211   0.000000  0.008744  0.005128   \n",
              "...               ...           ...       ...        ...       ...       ...   \n",
              "2020-12-22  46.912857     -0.015082  0.000000   0.015082  0.007858  0.006474   \n",
              "2020-12-23  47.090000      0.023394  0.023394   0.000000  0.009800  0.005664   \n",
              "2020-12-28  47.187143     -0.010391  0.000000   0.010391  0.008575  0.006255   \n",
              "2020-12-29  47.347143      0.007980  0.007980   0.000000  0.008501  0.005473   \n",
              "2020-12-30  47.547143      0.008333  0.008333   0.000000  0.008480  0.004789   \n",
              "\n",
              "                  RS        RSI  BUY  \n",
              "Date                                  \n",
              "2018-02-09  0.000000   0.000000   NO  \n",
              "2018-02-12  0.054485   5.166957   NO  \n",
              "2018-02-13  0.050964   4.849263   NO  \n",
              "2018-02-14  1.093994  52.244364   NO  \n",
              "2018-02-15  1.705045  63.032043   NO  \n",
              "...              ...        ...  ...  \n",
              "2020-12-22  1.213878  54.830388  YES  \n",
              "2020-12-23  1.730139  63.371824  YES  \n",
              "2020-12-28  1.370888  57.821705  YES  \n",
              "2020-12-29  1.553135  60.832460  YES  \n",
              "2020-12-30  1.770643  63.907301  YES  \n",
              "\n",
              "[720 rows x 15 columns]"
            ]
          },
          "metadata": {
            "tags": []
          },
          "execution_count": 4
        }
      ]
    },
    {
      "cell_type": "code",
      "metadata": {
        "colab": {
          "base_uri": "https://localhost:8080/",
          "height": 375
        },
        "id": "obr5Fd_p3K7n",
        "outputId": "e0028d4c-5cb3-47a3-e764-0dab3441db22"
      },
      "source": [
        "plt.figure(figsize=(15,6))\n",
        "df['RSI'].plot(legend=True).axhline(y=50, color=\"black\", lw=2)\n",
        "df['Adj Close'].plot(legend=True)\n",
        "plt.grid(True)"
      ],
      "execution_count": 5,
      "outputs": [
        {
          "output_type": "display_data",
          "data": {
            "image/png": "[encoded data removed]",
            "text/plain": [
              "<Figure size 1080x432 with 1 Axes>"
            ]
          },
          "metadata": {
            "tags": [],
            "needs_background": "light"
          }
        }
      ]
    },
    {
      "cell_type": "code",
      "metadata": {
        "colab": {
          "base_uri": "https://localhost:8080/"
        },
        "id": "-MfEpCQLfXOu",
        "outputId": "9b9399dd-ad19-48a5-d869-1aca20a8c6c4"
      },
      "source": [
        "pd.value_counts(df.BUY)"
      ],
      "execution_count": 6,
      "outputs": [
        {
          "output_type": "execute_result",
          "data": {
            "text/plain": [
              "YES    406\n",
              "NO     314\n",
              "Name: BUY, dtype: int64"
            ]
          },
          "metadata": {
            "tags": []
          },
          "execution_count": 6
        }
      ]
    },
    {
      "cell_type": "code",
      "metadata": {
        "colab": {
          "base_uri": "https://localhost:8080/",
          "height": 417
        },
        "id": "fHAEVyULfbx1",
        "outputId": "e4135a4d-6c44-47bb-885d-da7634ea810d"
      },
      "source": [
        "PnL = []\n",
        "\n",
        "for i in range(len(df) - 12):\n",
        "  if \"YES\" in df['BUY'].iloc[i]:\n",
        "    for j in range(1,11):\n",
        "      if df['RSI'].iloc[i+j] > 70:\n",
        "        PnL.append(df['Open'].iloc[i+j+1] - df['Open'].iloc[i+1])\n",
        "        break\n",
        "      if df['RSI'].iloc[i+j] < 30:\n",
        "        PnL.append(df['Open'].iloc[i+12] - df['Open'].iloc[i+1])\n",
        "        break\n",
        "\n",
        "pd.DataFrame(PnL)"
      ],
      "execution_count": 7,
      "outputs": [
        {
          "output_type": "execute_result",
          "data": {
            "text/html": [
              "<div>\n",
              "<style scoped>\n",
              "    .dataframe tbody tr th:only-of-type {\n",
              "        vertical-align: middle;\n",
              "    }\n",
              "\n",
              "    .dataframe tbody tr th {\n",
              "        vertical-align: top;\n",
              "    }\n",
              "\n",
              "    .dataframe thead th {\n",
              "        text-align: right;\n",
              "    }\n",
              "</style>\n",
              "<table border=\"1\" class=\"dataframe\">\n",
              "  <thead>\n",
              "    <tr style=\"text-align: right;\">\n",
              "      <th></th>\n",
              "      <th>0</th>\n",
              "    </tr>\n",
              "  </thead>\n",
              "  <tbody>\n",
              "    <tr>\n",
              "      <th>0</th>\n",
              "      <td>1.000000</td>\n",
              "    </tr>\n",
              "    <tr>\n",
              "      <th>1</th>\n",
              "      <td>0.459999</td>\n",
              "    </tr>\n",
              "    <tr>\n",
              "      <th>2</th>\n",
              "      <td>3.270000</td>\n",
              "    </tr>\n",
              "    <tr>\n",
              "      <th>3</th>\n",
              "      <td>3.400002</td>\n",
              "    </tr>\n",
              "    <tr>\n",
              "      <th>4</th>\n",
              "      <td>1.779999</td>\n",
              "    </tr>\n",
              "    <tr>\n",
              "      <th>...</th>\n",
              "      <td>...</td>\n",
              "    </tr>\n",
              "    <tr>\n",
              "      <th>238</th>\n",
              "      <td>0.820000</td>\n",
              "    </tr>\n",
              "    <tr>\n",
              "      <th>239</th>\n",
              "      <td>1.310001</td>\n",
              "    </tr>\n",
              "    <tr>\n",
              "      <th>240</th>\n",
              "      <td>1.370003</td>\n",
              "    </tr>\n",
              "    <tr>\n",
              "      <th>241</th>\n",
              "      <td>1.280003</td>\n",
              "    </tr>\n",
              "    <tr>\n",
              "      <th>242</th>\n",
              "      <td>-0.240002</td>\n",
              "    </tr>\n",
              "  </tbody>\n",
              "</table>\n",
              "<p>243 rows × 1 columns</p>\n",
              "</div>"
            ],
            "text/plain": [
              "            0\n",
              "0    1.000000\n",
              "1    0.459999\n",
              "2    3.270000\n",
              "3    3.400002\n",
              "4    1.779999\n",
              "..        ...\n",
              "238  0.820000\n",
              "239  1.310001\n",
              "240  1.370003\n",
              "241  1.280003\n",
              "242 -0.240002\n",
              "\n",
              "[243 rows x 1 columns]"
            ]
          },
          "metadata": {
            "tags": []
          },
          "execution_count": 7
        }
      ]
    },
    {
      "cell_type": "code",
      "metadata": {
        "colab": {
          "base_uri": "https://localhost:8080/"
        },
        "id": "v1CMTR7SfinF",
        "outputId": "f1465730-a6a7-42d2-9743-d0637124fcaa"
      },
      "source": [
        "len([i for i in PnL if i > 0])\n",
        "len(PnL)\n",
        "# winning rate\n",
        "print(len([i for i in PnL if i > 0]) / len(PnL))"
      ],
      "execution_count": 8,
      "outputs": [
        {
          "output_type": "stream",
          "text": [
            "0.7407407407407407\n"
          ],
          "name": "stdout"
        }
      ]
    },
    {
      "cell_type": "code",
      "metadata": {
        "colab": {
          "base_uri": "https://localhost:8080/"
        },
        "id": "Jf2jOphif0UM",
        "outputId": "940b0411-b99d-4131-f205-bd03e8e6b6d5"
      },
      "source": [
        "tickers=[\"CL=F\"]\n",
        "start_date = dt.datetime(2018,1,1)\n",
        "end_date = dt.datetime(2020,12,31)\n",
        "\n",
        "def RSI_calculation(symbol):\n",
        "  data = yf.download(tickers, start = start_date, end=end_date)\n",
        "  data['MA_14'] = data['Adj Close'].rolling(window=14).mean()\n",
        "  data['price_change'] = data['Adj Close'].pct_change()\n",
        "  data['up_move'] = data['price_change'].apply(lambda x: x if x > 0 else 0)\n",
        "  data['down_move'] = data['price_change'].apply(lambda x: abs(x) if x < 0 else 0)\n",
        "  data['avg_up'] = data['up_move'].ewm(span=14).mean()\n",
        "  data['avg_down'] = data['down_move'].ewm(span=14).mean()\n",
        "  data = data.dropna()\n",
        "  data['RS'] = data['avg_up'] / data['avg_down']\n",
        "  data['RSI'] = data['RS'].apply(lambda x: 100 - (100/(x+1)))\n",
        "  data.loc[(data['Adj Close'] > data['MA_14']) & (data['RSI'] > 30), \"BUY\"] = 'YES'\n",
        "  data.loc[(data['Adj Close'] < data['MA_14']) | (data['RSI'] < 30), \"BUY\"] = 'NO'\n",
        "  return (data)\n",
        "\n",
        "def get_signals(data):\n",
        "  buy_date = []\n",
        "  sell_date = []\n",
        "\n",
        "  for i in range(len(data) - 11):\n",
        "    if \"YES\" in data['BUY'].iloc[i]:\n",
        "      buy_date.append(data.iloc[i+1].name)\n",
        "      for j in range(1,11):\n",
        "        if data['RSI'].iloc[i+j] > 70:\n",
        "          sell_date.append(data.iloc[i+j+1].name)\n",
        "          break\n",
        "        elif j == 10:\n",
        "          sell_date.append(data.iloc[i+j+1].name)\n",
        "\n",
        "  return (buy_date, sell_date)\n",
        "\n",
        "dataframe = RSI_calculation(tickers[0])\n",
        "buy, sell = get_signals(dataframe)\n"
      ],
      "execution_count": 9,
      "outputs": [
        {
          "output_type": "stream",
          "text": [
            "\r[*********************100%***********************]  1 of 1 completed\n"
          ],
          "name": "stdout"
        }
      ]
    },
    {
      "cell_type": "code",
      "metadata": {
        "colab": {
          "base_uri": "https://localhost:8080/",
          "height": 374
        },
        "id": "uQvtl6r5gBls",
        "outputId": "55bd9f09-f667-493b-bc44-4da7c601aa2a"
      },
      "source": [
        "plt.figure(figsize = (15,6))\n",
        "plt.scatter(dataframe.loc[buy].index, \n",
        "            dataframe.loc[buy]['Adj Close'], \n",
        "            marker = '^', \n",
        "            c = 'k')\n",
        "plt.plot(dataframe['Adj Close'])\n",
        "plt.grid(True); plt.show()"
      ],
      "execution_count": 10,
      "outputs": [
        {
          "output_type": "display_data",
          "data": {
            "image/png": "[encoded data removed]",
            "text/plain": [
              "<Figure size 1080x432 with 1 Axes>"
            ]
          },
          "metadata": {
            "tags": [],
            "needs_background": "light"
          }
        }
      ]
    },
    {
      "cell_type": "code",
      "metadata": {
        "colab": {
          "base_uri": "https://localhost:8080/"
        },
        "id": "EPqEWWQHgmr0",
        "outputId": "2859fff2-365c-4dc8-e4cc-f895fa674928"
      },
      "source": [
        "profits = (dataframe.loc[sell].Open.values - dataframe.loc[buy].Open.values) / dataframe.loc[sell].Open.values\n",
        "len([i for i in profits if i > 0]) / len(profits)"
      ],
      "execution_count": 11,
      "outputs": [
        {
          "output_type": "execute_result",
          "data": {
            "text/plain": [
              "0.6896551724137931"
            ]
          },
          "metadata": {
            "tags": []
          },
          "execution_count": 11
        }
      ]
    },
    {
      "cell_type": "code",
      "metadata": {
        "colab": {
          "base_uri": "https://localhost:8080/"
        },
        "id": "oD7G3RrDgwf8",
        "outputId": "676706c6-a40a-4b3c-b36c-3b1a9bf96f0b"
      },
      "source": [
        "len(profits)"
      ],
      "execution_count": 12,
      "outputs": [
        {
          "output_type": "execute_result",
          "data": {
            "text/plain": [
              "406"
            ]
          },
          "metadata": {
            "tags": []
          },
          "execution_count": 12
        }
      ]
    },
    {
      "cell_type": "code",
      "metadata": {
        "colab": {
          "base_uri": "https://localhost:8080/"
        },
        "id": "6Y77_H5hgzIM",
        "outputId": "f3bf3559-9399-4d9f-eef0-a6f49a7a5d38"
      },
      "source": [
        "matrix_signals = []\n",
        "matrix_profit = []\n",
        "\n",
        "for i in range(len(tickers)):\n",
        "  dataframe = RSI_calculation(tickers[i])\n",
        "  buy, sell = get_signals(dataframe)\n",
        "  profits = (dataframe.loc[sell].Open.values - dataframe.loc[buy].Open.values) / dataframe.loc[sell].Open.values\n",
        "  matrix_signals.append(buy)\n",
        "  matrix_profit.append(profits)"
      ],
      "execution_count": 13,
      "outputs": [
        {
          "output_type": "stream",
          "text": [
            "\r[*********************100%***********************]  1 of 1 completed\n"
          ],
          "name": "stdout"
        }
      ]
    },
    {
      "cell_type": "code",
      "metadata": {
        "colab": {
          "base_uri": "https://localhost:8080/",
          "height": 417
        },
        "id": "PTi5onKrg3QM",
        "outputId": "e7e7649d-b017-48cc-ff2a-bce7e22ebd68"
      },
      "source": [
        "final_profit = []\n",
        "\n",
        "for i in matrix_profit:\n",
        "  for e in i:\n",
        "    final_profit.append(e)\n",
        "\n",
        "DataFrame(final_profit)"
      ],
      "execution_count": 14,
      "outputs": [
        {
          "output_type": "execute_result",
          "data": {
            "text/html": [
              "<div>\n",
              "<style scoped>\n",
              "    .dataframe tbody tr th:only-of-type {\n",
              "        vertical-align: middle;\n",
              "    }\n",
              "\n",
              "    .dataframe tbody tr th {\n",
              "        vertical-align: top;\n",
              "    }\n",
              "\n",
              "    .dataframe thead th {\n",
              "        text-align: right;\n",
              "    }\n",
              "</style>\n",
              "<table border=\"1\" class=\"dataframe\">\n",
              "  <thead>\n",
              "    <tr style=\"text-align: right;\">\n",
              "      <th></th>\n",
              "      <th>0</th>\n",
              "    </tr>\n",
              "  </thead>\n",
              "  <tbody>\n",
              "    <tr>\n",
              "      <th>0</th>\n",
              "      <td>0.008382</td>\n",
              "    </tr>\n",
              "    <tr>\n",
              "      <th>1</th>\n",
              "      <td>0.022161</td>\n",
              "    </tr>\n",
              "    <tr>\n",
              "      <th>2</th>\n",
              "      <td>-0.009655</td>\n",
              "    </tr>\n",
              "    <tr>\n",
              "      <th>3</th>\n",
              "      <td>0.014053</td>\n",
              "    </tr>\n",
              "    <tr>\n",
              "      <th>4</th>\n",
              "      <td>-0.009919</td>\n",
              "    </tr>\n",
              "    <tr>\n",
              "      <th>...</th>\n",
              "      <td>...</td>\n",
              "    </tr>\n",
              "    <tr>\n",
              "      <th>401</th>\n",
              "      <td>0.027890</td>\n",
              "    </tr>\n",
              "    <tr>\n",
              "      <th>402</th>\n",
              "      <td>0.029168</td>\n",
              "    </tr>\n",
              "    <tr>\n",
              "      <th>403</th>\n",
              "      <td>0.027251</td>\n",
              "    </tr>\n",
              "    <tr>\n",
              "      <th>404</th>\n",
              "      <td>-0.005136</td>\n",
              "    </tr>\n",
              "    <tr>\n",
              "      <th>405</th>\n",
              "      <td>0.005533</td>\n",
              "    </tr>\n",
              "  </tbody>\n",
              "</table>\n",
              "<p>406 rows × 1 columns</p>\n",
              "</div>"
            ],
            "text/plain": [
              "            0\n",
              "0    0.008382\n",
              "1    0.022161\n",
              "2   -0.009655\n",
              "3    0.014053\n",
              "4   -0.009919\n",
              "..        ...\n",
              "401  0.027890\n",
              "402  0.029168\n",
              "403  0.027251\n",
              "404 -0.005136\n",
              "405  0.005533\n",
              "\n",
              "[406 rows x 1 columns]"
            ]
          },
          "metadata": {
            "tags": []
          },
          "execution_count": 14
        }
      ]
    },
    {
      "cell_type": "code",
      "metadata": {
        "colab": {
          "base_uri": "https://localhost:8080/"
        },
        "id": "URHLqLcXhAKl",
        "outputId": "ca252b77-8483-4d7f-e8ce-0de98b45a36b"
      },
      "source": [
        "wins = [i for i in final_profit if i > 0]\n",
        "len(wins) / len(final_profit)"
      ],
      "execution_count": 15,
      "outputs": [
        {
          "output_type": "execute_result",
          "data": {
            "text/plain": [
              "0.6896551724137931"
            ]
          },
          "metadata": {
            "tags": []
          },
          "execution_count": 15
        }
      ]
    },
    {
      "cell_type": "code",
      "metadata": {
        "colab": {
          "base_uri": "https://localhost:8080/",
          "height": 265
        },
        "id": "hnVVyys0hCpt",
        "outputId": "e43da0e1-f472-4954-8d0c-ba6c6ac814d1"
      },
      "source": [
        "plt.hist(final_profit, bins=100)\n",
        "plt.show()"
      ],
      "execution_count": 16,
      "outputs": [
        {
          "output_type": "display_data",
          "data": {
            "image/png": "[encoded data removed]",
            "text/plain": [
              "<Figure size 432x288 with 1 Axes>"
            ]
          },
          "metadata": {
            "tags": [],
            "needs_background": "light"
          }
        }
      ]
    },
    {
      "cell_type": "code",
      "metadata": {
        "colab": {
          "base_uri": "https://localhost:8080/"
        },
        "id": "WI_ffdHjhHjt",
        "outputId": "0a174bc3-b1d7-48e5-f19b-787c72daf3da"
      },
      "source": [
        "for i in matrix_signals:\n",
        "  for e in i:\n",
        "    if e.year == 2020:\n",
        "      print(e)"
      ],
      "execution_count": 17,
      "outputs": [
        {
          "output_type": "stream",
          "text": [
            "2020-01-02 00:00:00\n",
            "2020-01-03 00:00:00\n",
            "2020-01-06 00:00:00\n",
            "2020-01-07 00:00:00\n",
            "2020-01-08 00:00:00\n",
            "2020-02-14 00:00:00\n",
            "2020-02-18 00:00:00\n",
            "2020-02-19 00:00:00\n",
            "2020-02-20 00:00:00\n",
            "2020-02-21 00:00:00\n",
            "2020-02-24 00:00:00\n",
            "2020-02-25 00:00:00\n",
            "2020-04-03 00:00:00\n",
            "2020-04-06 00:00:00\n",
            "2020-04-07 00:00:00\n",
            "2020-04-08 00:00:00\n",
            "2020-04-09 00:00:00\n",
            "2020-05-01 00:00:00\n",
            "2020-05-04 00:00:00\n",
            "2020-05-05 00:00:00\n",
            "2020-05-06 00:00:00\n",
            "2020-05-07 00:00:00\n",
            "2020-05-08 00:00:00\n",
            "2020-05-11 00:00:00\n",
            "2020-05-12 00:00:00\n",
            "2020-05-13 00:00:00\n",
            "2020-05-14 00:00:00\n",
            "2020-05-15 00:00:00\n",
            "2020-05-18 00:00:00\n",
            "2020-05-19 00:00:00\n",
            "2020-05-20 00:00:00\n",
            "2020-05-21 00:00:00\n",
            "2020-05-22 00:00:00\n",
            "2020-05-26 00:00:00\n",
            "2020-05-27 00:00:00\n",
            "2020-05-28 00:00:00\n",
            "2020-05-29 00:00:00\n",
            "2020-06-01 00:00:00\n",
            "2020-06-02 00:00:00\n",
            "2020-06-03 00:00:00\n",
            "2020-06-04 00:00:00\n",
            "2020-06-05 00:00:00\n",
            "2020-06-08 00:00:00\n",
            "2020-06-09 00:00:00\n",
            "2020-06-10 00:00:00\n",
            "2020-06-11 00:00:00\n",
            "2020-06-16 00:00:00\n",
            "2020-06-17 00:00:00\n",
            "2020-06-18 00:00:00\n",
            "2020-06-19 00:00:00\n",
            "2020-06-22 00:00:00\n",
            "2020-06-23 00:00:00\n",
            "2020-06-24 00:00:00\n",
            "2020-06-26 00:00:00\n",
            "2020-06-30 00:00:00\n",
            "2020-07-01 00:00:00\n",
            "2020-07-02 00:00:00\n",
            "2020-07-06 00:00:00\n",
            "2020-07-07 00:00:00\n",
            "2020-07-08 00:00:00\n",
            "2020-07-09 00:00:00\n",
            "2020-07-13 00:00:00\n",
            "2020-07-14 00:00:00\n",
            "2020-07-15 00:00:00\n",
            "2020-07-16 00:00:00\n",
            "2020-07-17 00:00:00\n",
            "2020-07-20 00:00:00\n",
            "2020-07-21 00:00:00\n",
            "2020-07-22 00:00:00\n",
            "2020-07-23 00:00:00\n",
            "2020-07-24 00:00:00\n",
            "2020-07-27 00:00:00\n",
            "2020-07-28 00:00:00\n",
            "2020-07-29 00:00:00\n",
            "2020-07-30 00:00:00\n",
            "2020-08-05 00:00:00\n",
            "2020-08-06 00:00:00\n",
            "2020-08-07 00:00:00\n",
            "2020-08-11 00:00:00\n",
            "2020-08-12 00:00:00\n",
            "2020-08-13 00:00:00\n",
            "2020-08-14 00:00:00\n",
            "2020-08-17 00:00:00\n",
            "2020-08-18 00:00:00\n",
            "2020-08-19 00:00:00\n",
            "2020-08-20 00:00:00\n",
            "2020-08-21 00:00:00\n",
            "2020-08-24 00:00:00\n",
            "2020-08-25 00:00:00\n",
            "2020-08-26 00:00:00\n",
            "2020-08-27 00:00:00\n",
            "2020-08-28 00:00:00\n",
            "2020-08-31 00:00:00\n",
            "2020-09-02 00:00:00\n",
            "2020-09-17 00:00:00\n",
            "2020-09-18 00:00:00\n",
            "2020-09-21 00:00:00\n",
            "2020-09-23 00:00:00\n",
            "2020-09-24 00:00:00\n",
            "2020-09-25 00:00:00\n",
            "2020-09-28 00:00:00\n",
            "2020-09-29 00:00:00\n",
            "2020-10-01 00:00:00\n",
            "2020-10-07 00:00:00\n",
            "2020-10-08 00:00:00\n",
            "2020-10-09 00:00:00\n",
            "2020-10-12 00:00:00\n",
            "2020-10-14 00:00:00\n",
            "2020-10-15 00:00:00\n",
            "2020-10-16 00:00:00\n",
            "2020-10-19 00:00:00\n",
            "2020-10-20 00:00:00\n",
            "2020-10-21 00:00:00\n",
            "2020-10-23 00:00:00\n",
            "2020-11-05 00:00:00\n",
            "2020-11-06 00:00:00\n",
            "2020-11-10 00:00:00\n",
            "2020-11-11 00:00:00\n",
            "2020-11-12 00:00:00\n",
            "2020-11-13 00:00:00\n",
            "2020-11-16 00:00:00\n",
            "2020-11-17 00:00:00\n",
            "2020-11-18 00:00:00\n",
            "2020-11-19 00:00:00\n",
            "2020-11-20 00:00:00\n",
            "2020-11-23 00:00:00\n",
            "2020-11-24 00:00:00\n",
            "2020-11-25 00:00:00\n",
            "2020-11-30 00:00:00\n",
            "2020-12-01 00:00:00\n",
            "2020-12-02 00:00:00\n",
            "2020-12-03 00:00:00\n",
            "2020-12-04 00:00:00\n",
            "2020-12-07 00:00:00\n",
            "2020-12-08 00:00:00\n",
            "2020-12-09 00:00:00\n",
            "2020-12-10 00:00:00\n",
            "2020-12-11 00:00:00\n",
            "2020-12-14 00:00:00\n"
          ],
          "name": "stdout"
        }
      ]
    },
    {
      "cell_type": "code",
      "metadata": {
        "colab": {
          "base_uri": "https://localhost:8080/"
        },
        "id": "kKH6Zlp_nCWs",
        "outputId": "f364ca36-8809-4c6a-f50b-f8e31252fe96"
      },
      "source": [
        "import numpy as np\n",
        "import warnings\n",
        "warnings.simplefilter(action = \"ignore\", category = RuntimeWarning)\n",
        "\n",
        "ticker = \"CL=F\"\n",
        "start_date = dt.datetime(2018,1,1)\n",
        "end_date = dt.datetime(2020,12,31)\n",
        "class DataBase():\n",
        "  def __init__(self, ticker, days):\n",
        "    self.ticker = ticker\n",
        "    data = yf.download(ticker, start = start_date, end =end_date )\n",
        "    self.df = DataFrame(data)\n",
        "    pd.set_option(\"display.max_columns\", None)\n",
        "    self.df[self.df.index.dayofweek < 5]\n",
        "    self.df= self.df[-days:]\n",
        "\n",
        "  def quote(self):\n",
        "    return self.df\n",
        "\n",
        "db = DataBase(ticker, 1000)\n",
        "df = db.quote()\n",
        "# print(df.tail())\n",
        "\n",
        "# calculate the return of the day and add as new column\n",
        "df['price_change'] = np.log(df['Adj Close'] / df['Adj Close'].shift(1) )\n",
        "df.dropna(inplace=True)\n",
        "\n",
        "# calculate the movement on the price compared to the previous day closing price\n",
        "df['movement'] = df['Adj Close'] - df['Adj Close'].shift(1)\n",
        "\n",
        "df['up'] = np.where((df['movement'] > 0), df['movement'],0)\n",
        "\n",
        "df['down'] = np.where((df['movement'] < 0), df['movement'],0)\n",
        "\n",
        "window_size = 14\n",
        "# calculate moving average of the last 14 days  gains\n",
        "up = df['up'].rolling(window_size).mean()\n",
        "\n",
        "# calculate moving average of the last 14 days  losses\n",
        "down = df['down'].abs().rolling(window_size).mean()\n",
        "\n",
        "RS = up / down\n",
        "RSI = 100.0 - (100.0 / (1.0 + RS))\n",
        "\n",
        "RSI = RSI.rename(\"RSI\")\n",
        "print(RSI)"
      ],
      "execution_count": 19,
      "outputs": [
        {
          "output_type": "stream",
          "text": [
            "\r[*********************100%***********************]  1 of 1 completed\n",
            "Date\n",
            "2018-01-03          NaN\n",
            "2018-01-04          NaN\n",
            "2018-01-05          NaN\n",
            "2018-01-08          NaN\n",
            "2018-01-09          NaN\n",
            "                ...    \n",
            "2020-12-22    61.153869\n",
            "2020-12-23    64.519922\n",
            "2020-12-28    58.076022\n",
            "2020-12-29    63.494000\n",
            "2020-12-30    66.393473\n",
            "Name: RSI, Length: 744, dtype: float64\n"
          ],
          "name": "stdout"
        }
      ]
    },
    {
      "cell_type": "markdown",
      "metadata": {
        "id": "8CzUAwy9o8Ec"
      },
      "source": [
        "We need three lines of code to ensure that our strategy is defined appropriately. E.g. 1 when we need to be long:\n",
        "\n",
        "The first line of code on the long column, ensures that we will have a 1, if RSI is below 30.\n",
        "The second line of code, ensures that we will have 0 if the RSI is above 70.\n",
        "Then, finally, the third line of code, will ‘forward fill’ and propagate the last valid observation forward to get rid of the nan.\n",
        "Above three lines will ensure that we only go long when we cross the line from below 30.\n",
        "\n",
        "Finally, we calculate the gain and loss for each of the day and the accumulative return. Below screenshot shows that with this strategy, we would get an accumulative return of 50% if we followed the strategy during the last 5 years."
      ]
    },
    {
      "cell_type": "code",
      "metadata": {
        "colab": {
          "base_uri": "https://localhost:8080/",
          "height": 447
        },
        "id": "ESsCc6GHpA7z",
        "outputId": "1c0852dd-8cbc-4350-dd25-4f815808c461"
      },
      "source": [
        "new_df = pd.merge(df, RSI, left_index=True, right_index=True)\n",
        "\n",
        "#If the indicator’s line crosses the level 30 from below, a long position (Buy) is opened.  \n",
        "new_df['long'] = np.where((new_df['RSI'] < 20),1,np.nan)\n",
        "new_df['long'] = np.where((new_df['RSI'] > 80),0, new_df['long'])\n",
        "\n",
        "new_df['long'].ffill(inplace=True)\n",
        "\n",
        "new_df['gain_loss'] = new_df['long'].shift(1) * new_df['price_change']\n",
        "\n",
        "new_df['total'] =  new_df['gain_loss'].cumsum()\n",
        "\n",
        "new_df[['Adj Close', 'price_change',\t'movement',\t\n",
        "       'up','down',\t'RSI','long','gain_loss', 'total']].tail(500)"
      ],
      "execution_count": 20,
      "outputs": [
        {
          "output_type": "execute_result",
          "data": {
            "text/html": [
              "<div>\n",
              "<style scoped>\n",
              "    .dataframe tbody tr th:only-of-type {\n",
              "        vertical-align: middle;\n",
              "    }\n",
              "\n",
              "    .dataframe tbody tr th {\n",
              "        vertical-align: top;\n",
              "    }\n",
              "\n",
              "    .dataframe thead th {\n",
              "        text-align: right;\n",
              "    }\n",
              "</style>\n",
              "<table border=\"1\" class=\"dataframe\">\n",
              "  <thead>\n",
              "    <tr style=\"text-align: right;\">\n",
              "      <th></th>\n",
              "      <th>Adj Close</th>\n",
              "      <th>price_change</th>\n",
              "      <th>movement</th>\n",
              "      <th>up</th>\n",
              "      <th>down</th>\n",
              "      <th>RSI</th>\n",
              "      <th>long</th>\n",
              "      <th>gain_loss</th>\n",
              "      <th>total</th>\n",
              "    </tr>\n",
              "    <tr>\n",
              "      <th>Date</th>\n",
              "      <th></th>\n",
              "      <th></th>\n",
              "      <th></th>\n",
              "      <th></th>\n",
              "      <th></th>\n",
              "      <th></th>\n",
              "      <th></th>\n",
              "      <th></th>\n",
              "      <th></th>\n",
              "    </tr>\n",
              "  </thead>\n",
              "  <tbody>\n",
              "    <tr>\n",
              "      <th>2018-12-27</th>\n",
              "      <td>44.610001</td>\n",
              "      <td>-0.035455</td>\n",
              "      <td>-1.610001</td>\n",
              "      <td>0.000000</td>\n",
              "      <td>-1.610001</td>\n",
              "      <td>26.289795</td>\n",
              "      <td>1.0</td>\n",
              "      <td>-0.035455</td>\n",
              "      <td>-0.142830</td>\n",
              "    </tr>\n",
              "    <tr>\n",
              "      <th>2018-12-28</th>\n",
              "      <td>45.330002</td>\n",
              "      <td>0.016011</td>\n",
              "      <td>0.720001</td>\n",
              "      <td>0.720001</td>\n",
              "      <td>0.000000</td>\n",
              "      <td>32.072182</td>\n",
              "      <td>1.0</td>\n",
              "      <td>0.016011</td>\n",
              "      <td>-0.126819</td>\n",
              "    </tr>\n",
              "    <tr>\n",
              "      <th>2018-12-31</th>\n",
              "      <td>45.410000</td>\n",
              "      <td>0.001763</td>\n",
              "      <td>0.079998</td>\n",
              "      <td>0.079998</td>\n",
              "      <td>0.000000</td>\n",
              "      <td>27.695169</td>\n",
              "      <td>1.0</td>\n",
              "      <td>0.001763</td>\n",
              "      <td>-0.125055</td>\n",
              "    </tr>\n",
              "    <tr>\n",
              "      <th>2019-01-02</th>\n",
              "      <td>46.540001</td>\n",
              "      <td>0.024580</td>\n",
              "      <td>1.130001</td>\n",
              "      <td>1.130001</td>\n",
              "      <td>0.000000</td>\n",
              "      <td>35.759904</td>\n",
              "      <td>1.0</td>\n",
              "      <td>0.024580</td>\n",
              "      <td>-0.100476</td>\n",
              "    </tr>\n",
              "    <tr>\n",
              "      <th>2019-01-03</th>\n",
              "      <td>47.090000</td>\n",
              "      <td>0.011748</td>\n",
              "      <td>0.549999</td>\n",
              "      <td>0.549999</td>\n",
              "      <td>0.000000</td>\n",
              "      <td>35.347041</td>\n",
              "      <td>1.0</td>\n",
              "      <td>0.011748</td>\n",
              "      <td>-0.088727</td>\n",
              "    </tr>\n",
              "    <tr>\n",
              "      <th>...</th>\n",
              "      <td>...</td>\n",
              "      <td>...</td>\n",
              "      <td>...</td>\n",
              "      <td>...</td>\n",
              "      <td>...</td>\n",
              "      <td>...</td>\n",
              "      <td>...</td>\n",
              "      <td>...</td>\n",
              "      <td>...</td>\n",
              "    </tr>\n",
              "    <tr>\n",
              "      <th>2020-12-22</th>\n",
              "      <td>47.020000</td>\n",
              "      <td>-0.015197</td>\n",
              "      <td>-0.720001</td>\n",
              "      <td>0.000000</td>\n",
              "      <td>-0.720001</td>\n",
              "      <td>61.153869</td>\n",
              "      <td>0.0</td>\n",
              "      <td>-0.000000</td>\n",
              "      <td>0.369355</td>\n",
              "    </tr>\n",
              "    <tr>\n",
              "      <th>2020-12-23</th>\n",
              "      <td>48.119999</td>\n",
              "      <td>0.023125</td>\n",
              "      <td>1.099998</td>\n",
              "      <td>1.099998</td>\n",
              "      <td>0.000000</td>\n",
              "      <td>64.519922</td>\n",
              "      <td>0.0</td>\n",
              "      <td>0.000000</td>\n",
              "      <td>0.369355</td>\n",
              "    </tr>\n",
              "    <tr>\n",
              "      <th>2020-12-28</th>\n",
              "      <td>47.619999</td>\n",
              "      <td>-0.010445</td>\n",
              "      <td>-0.500000</td>\n",
              "      <td>0.000000</td>\n",
              "      <td>-0.500000</td>\n",
              "      <td>58.076022</td>\n",
              "      <td>0.0</td>\n",
              "      <td>-0.000000</td>\n",
              "      <td>0.369355</td>\n",
              "    </tr>\n",
              "    <tr>\n",
              "      <th>2020-12-29</th>\n",
              "      <td>48.000000</td>\n",
              "      <td>0.007948</td>\n",
              "      <td>0.380001</td>\n",
              "      <td>0.380001</td>\n",
              "      <td>0.000000</td>\n",
              "      <td>63.494000</td>\n",
              "      <td>0.0</td>\n",
              "      <td>0.000000</td>\n",
              "      <td>0.369355</td>\n",
              "    </tr>\n",
              "    <tr>\n",
              "      <th>2020-12-30</th>\n",
              "      <td>48.400002</td>\n",
              "      <td>0.008299</td>\n",
              "      <td>0.400002</td>\n",
              "      <td>0.400002</td>\n",
              "      <td>0.000000</td>\n",
              "      <td>66.393473</td>\n",
              "      <td>0.0</td>\n",
              "      <td>0.000000</td>\n",
              "      <td>0.369355</td>\n",
              "    </tr>\n",
              "  </tbody>\n",
              "</table>\n",
              "<p>500 rows × 9 columns</p>\n",
              "</div>"
            ],
            "text/plain": [
              "            Adj Close  price_change  movement        up      down        RSI  \\\n",
              "Date                                                                           \n",
              "2018-12-27  44.610001     -0.035455 -1.610001  0.000000 -1.610001  26.289795   \n",
              "2018-12-28  45.330002      0.016011  0.720001  0.720001  0.000000  32.072182   \n",
              "2018-12-31  45.410000      0.001763  0.079998  0.079998  0.000000  27.695169   \n",
              "2019-01-02  46.540001      0.024580  1.130001  1.130001  0.000000  35.759904   \n",
              "2019-01-03  47.090000      0.011748  0.549999  0.549999  0.000000  35.347041   \n",
              "...               ...           ...       ...       ...       ...        ...   \n",
              "2020-12-22  47.020000     -0.015197 -0.720001  0.000000 -0.720001  61.153869   \n",
              "2020-12-23  48.119999      0.023125  1.099998  1.099998  0.000000  64.519922   \n",
              "2020-12-28  47.619999     -0.010445 -0.500000  0.000000 -0.500000  58.076022   \n",
              "2020-12-29  48.000000      0.007948  0.380001  0.380001  0.000000  63.494000   \n",
              "2020-12-30  48.400002      0.008299  0.400002  0.400002  0.000000  66.393473   \n",
              "\n",
              "            long  gain_loss     total  \n",
              "Date                                   \n",
              "2018-12-27   1.0  -0.035455 -0.142830  \n",
              "2018-12-28   1.0   0.016011 -0.126819  \n",
              "2018-12-31   1.0   0.001763 -0.125055  \n",
              "2019-01-02   1.0   0.024580 -0.100476  \n",
              "2019-01-03   1.0   0.011748 -0.088727  \n",
              "...          ...        ...       ...  \n",
              "2020-12-22   0.0  -0.000000  0.369355  \n",
              "2020-12-23   0.0   0.000000  0.369355  \n",
              "2020-12-28   0.0  -0.000000  0.369355  \n",
              "2020-12-29   0.0   0.000000  0.369355  \n",
              "2020-12-30   0.0   0.000000  0.369355  \n",
              "\n",
              "[500 rows x 9 columns]"
            ]
          },
          "metadata": {
            "tags": []
          },
          "execution_count": 20
        }
      ]
    },
    {
      "cell_type": "code",
      "metadata": {
        "colab": {
          "base_uri": "https://localhost:8080/"
        },
        "id": "4y6WVOHhqGz7",
        "outputId": "8c76665e-2355-4fd9-f2d1-37c117c81e4c"
      },
      "source": [
        "#alternative strategy of buying and hold stock:\n",
        "buy_hold_strat = (new_df['Adj Close'][-1] - new_df['Adj Close'][1]) / new_df['Adj Close'][1]\n",
        "print(buy_hold_strat)"
      ],
      "execution_count": 21,
      "outputs": [
        {
          "output_type": "stream",
          "text": [
            "-0.21948068318086333\n"
          ],
          "name": "stdout"
        }
      ]
    }
  ]
}