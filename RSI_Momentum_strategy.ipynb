{
  "nbformat": 4,
  "nbformat_minor": 0,
  "metadata": {
    "colab": {
      "name": "RSI_Momentum strategy.ipynb",
      "provenance": [],
      "authorship_tag": "ABX9TyMZAUJTpQbwUVeAjF9KaK0G",
      "include_colab_link": true
    },
    "kernelspec": {
      "name": "python3",
      "display_name": "Python 3"
    },
    "language_info": {
      "name": "python"
    }
  },
  "cells": [
    {
      "cell_type": "markdown",
      "metadata": {
        "id": "view-in-github",
        "colab_type": "text"
      },
      "source": [
        "<a href=\"https://colab.research.google.com/github/saritmaitra/Momentum_Trading/blob/main/RSI_Momentum_strategy.ipynb\" target=\"_parent\"><img src=\"https://colab.research.google.com/assets/colab-badge.svg\" alt=\"Open In Colab\"/></a>"
      ]
    },
    {
      "cell_type": "markdown",
      "metadata": {
        "id": "ST_TfLnBl6az"
      },
      "source": [
        "A momentum strategy basically bets on the continuation of an existing market trend. For example, if the market is or starts going up, we will bet that the trend will continue for a while and we will try to make our trading strategy based on this.\n",
        "\n",
        "Momentum indicators can help us locate the entry and exit points to follow momentum strategies. One of this type of indicators is the Relative Strength Index (RSI). This indicator is the one that we will use in order to define our backtesting strategy with Python.\n",
        "\n",
        "## Relative Strength Index (RSI)\n",
        "The Relative Strength Index (RSI) is a technical indicator that measures the speed and change of price movements. It was developed by J. Welles Wilder."
      ]
    },
    {
      "cell_type": "code",
      "metadata": {
        "id": "TJ3Q1CnOdVTo"
      },
      "source": [
        "!pip install yfinance\n",
        "import yfinance as yf\n",
        "import datetime as dt\n",
        "import matplotlib.pyplot as plt\n",
        "import matplotlib.transforms as transform\n",
        "import matplotlib.gridspec as gridspec\n",
        "import pandas as pd\n",
        "from pandas.tseries.offsets import MonthEnd\n",
        "pd.options.mode.chained_assignment = None\n",
        "pd.set_option('use_inf_as_na', True)\n",
        "from pandas import DataFrame, concat"
      ],
      "execution_count": null,
      "outputs": []
    },
    {
      "cell_type": "code",
      "metadata": {
        "colab": {
          "base_uri": "https://localhost:8080/"
        },
        "id": "BecBcyseddDm",
        "outputId": "9adc7a73-b0ab-47bc-8be6-067f90970626"
      },
      "source": [
        "ticker = \"CL=F\"\n",
        "start_date = dt.datetime(2010,12,31)\n",
        "end_date = dt.datetime(2020,12,31)\n",
        "class DataBase():\n",
        "  def __init__(self, ticker, days):\n",
        "    self.ticker = ticker\n",
        "    data = yf.download(ticker, start = start_date, end =end_date )\n",
        "    self.df = DataFrame(data)\n",
        "    pd.set_option(\"display.max_columns\", None)\n",
        "    self.df[self.df.index.dayofweek < 4]\n",
        "    self.df= self.df[-days:]\n",
        "\n",
        "  def quote(self):\n",
        "    return self.df\n",
        "\n",
        "db = DataBase(ticker, 1000)\n",
        "df = db.quote()\n",
        "print(df.tail(10))\n",
        "\n",
        "df['MA_14'] = df['Adj Close'].rolling(window=14).mean()\n",
        "df.dropna(inplace=True)\n",
        "\n",
        "# plt.rcParams.update({'font.size': 10})\n",
        "# fig, ax1 = plt.subplots(figsize = (15,6))\n",
        "# ax1.set_ylabel(\"Price in US$\")\n",
        "# ax1.set_xlabel(\"Timestamp\")\n",
        "# ax1.plot('Adj Close', data=df, label = \"Adj Close Price\")\n",
        "# ax1.plot('MA_15', data=df, label = \"3 weeks MA\"); plt.grid(True)\n",
        "# ax1.set_title('Crude Oil price & 15 days rolling average')\n",
        "# plt.show()"
      ],
      "execution_count": 108,
      "outputs": [
        {
          "output_type": "stream",
          "text": [
            "\r[*********************100%***********************]  1 of 1 completed\n",
            "                 Open       High        Low      Close  Adj Close  Volume\n",
            "Date                                                                     \n",
            "2020-12-15  46.990002  47.730000  46.540001  47.619999  47.619999  311169\n",
            "2020-12-16  47.599998  47.939999  47.169998  47.820000  47.820000  275331\n",
            "2020-12-17  47.849998  48.590000  47.810001  48.360001  48.360001   96536\n",
            "2020-12-18  48.430000  49.279999  48.099998  49.099998  49.099998   83711\n",
            "2020-12-21  48.540001  48.610001  46.180000  47.740002  47.740002  478098\n",
            "2020-12-22  47.930000  47.959999  46.599998  47.020000  47.020000  295737\n",
            "2020-12-23  46.790001  48.500000  46.160000  48.119999  48.119999  344306\n",
            "2020-12-28  48.230000  48.959999  47.500000  47.619999  47.619999  238462\n",
            "2020-12-29  47.720001  48.349998  47.680000  48.000000  48.000000  213778\n",
            "2020-12-30  48.130001  48.660000  47.610001  48.400002  48.400002  266957\n"
          ],
          "name": "stdout"
        }
      ]
    },
    {
      "cell_type": "code",
      "metadata": {
        "colab": {
          "base_uri": "https://localhost:8080/",
          "height": 350
        },
        "id": "_D8d6IZ2FxFc",
        "outputId": "2facf110-60f2-42e9-e3d9-f1b376a39b22"
      },
      "source": [
        "df['MA_14'] = df['Adj Close'].rolling(window=14).mean()\n",
        "df.dropna(inplace=True)\n",
        "\n",
        "plt.rcParams.update({'font.size': 10})\n",
        "fig, ax1 = plt.subplots(figsize = (10,5))\n",
        "ax1.set_ylabel(\"Price in US$\")\n",
        "ax1.set_xlabel(\"Timestamp\")\n",
        "ax1.plot('Adj Close', data=df, label = \"Adj Close Price\")\n",
        "ax1.plot('MA_14', data=df, label = \"14 days MA\"); plt.grid(True)\n",
        "ax1.set_title('Crude Oil price & 14 days rolling average')\n",
        "plt.show()"
      ],
      "execution_count": 127,
      "outputs": [
        {
          "output_type": "display_data",
          "data": {
            "image/png": "[encoded data removed]",
            "text/plain": [
              "<Figure size 720x360 with 1 Axes>"
            ]
          },
          "metadata": {
            "tags": [],
            "needs_background": "light"
          }
        }
      ]
    },
    {
      "cell_type": "markdown",
      "metadata": {
        "id": "7eKXOJzseVOF"
      },
      "source": [
        "It measures the relative strength of upside and downside moves in security prices.\n",
        "\n",
        "## Formula:\n",
        "\n",
        "- RSI = 100 – 100 / ( 1 + RS )\n",
        "- RS = Relative Strength = AvgU / AvgD\n",
        "- AvgU = average of all up moves in the last N price bars\n",
        "- AvgD = average of all down moves in the last N price bars\n",
        "- N = the period of RSI\n",
        "\n",
        "## RSI values\n",
        "The Relative Strenght Index can reach values from 0 to 100. \n",
        "- Values close to zero are a sign of declining (bearish) market; \n",
        "- values close to 100 occur when prices are rising and the rises are greater than the declines.\n",
        "\n",
        "High RSI means that the second part of the RSI formula (behind the minus sign) is very small and RS is very large, which means that recent up moves have been much greater than recent down moves. In other words, high RSI values are a sign of bullish market (which may be overbought – depending on your particular view and trading style).\n",
        "\n",
        "Conversely, low RSI means that RS is also low and recent down moves have been much greater than recent up moves – in other words, bearish (and possibly oversold) market.\n",
        "\n",
        "When there are no down moves and AvgD is zero, RS can’t be calculated (you would be dividing by zero). In such case, we can consider RS close to infinite and RSI is 100.\n",
        "\n",
        "## RSI overbought and oversold\n",
        "- RSI value over 80 or 90 is considered overbought.\n",
        "- RSI value under 20 or 10 is considered oversold.\n",
        "\n",
        "The tighter condition we choose (higher RSI value for overbought condition, lower RSI value for oversold condition), the fewer times RSI will get to the overbought or oversold territory and the fewer signals or trading situations we get."
      ]
    },
    {
      "cell_type": "code",
      "metadata": {
        "colab": {
          "base_uri": "https://localhost:8080/",
          "height": 447
        },
        "id": "Tbohj0CmeEz1",
        "outputId": "97f5c516-496d-4a0d-c549-f6d23a81269a"
      },
      "source": [
        "df['price_change'] = df['Adj Close'].pct_change()\n",
        "df = df.dropna()\n",
        "\n",
        "# https://www.macroption.com/rsi/ \n",
        "\n",
        "df['up_move'] = df['price_change'].apply(lambda x: x if x > 0 else 0)\n",
        "df['down_move'] = df['price_change'].apply(lambda x: abs(x) if x < 0 else 0)\n",
        "\n",
        "df['avg_up'] = df['up_move'].ewm(span=15).mean()\n",
        "df['avg_down'] = df['down_move'].ewm(span=15).mean()\n",
        "df = df.dropna()\n",
        "\n",
        "df['RS'] = df['avg_up'] / df['avg_down']\n",
        "df = df.dropna()\n",
        "df['RSI'] = df['RS'].apply(lambda x: 100 - (100/(x+1)))\n",
        "\n",
        "df.loc[(df['Adj Close'] > df['MA_14']) & (df['RSI'] > 30), \"BUY\"] = 'YES'\n",
        "df.loc[(df['Adj Close'] < df['MA_14']) | (df['RSI'] < 30), \"BUY\"] = 'NO'\n",
        "df"
      ],
      "execution_count": 109,
      "outputs": [
        {
          "output_type": "execute_result",
          "data": {
            "text/html": [
              "<div>\n",
              "<style scoped>\n",
              "    .dataframe tbody tr th:only-of-type {\n",
              "        vertical-align: middle;\n",
              "    }\n",
              "\n",
              "    .dataframe tbody tr th {\n",
              "        vertical-align: top;\n",
              "    }\n",
              "\n",
              "    .dataframe thead th {\n",
              "        text-align: right;\n",
              "    }\n",
              "</style>\n",
              "<table border=\"1\" class=\"dataframe\">\n",
              "  <thead>\n",
              "    <tr style=\"text-align: right;\">\n",
              "      <th></th>\n",
              "      <th>Open</th>\n",
              "      <th>High</th>\n",
              "      <th>Low</th>\n",
              "      <th>Close</th>\n",
              "      <th>Adj Close</th>\n",
              "      <th>Volume</th>\n",
              "      <th>MA_14</th>\n",
              "      <th>price_change</th>\n",
              "      <th>up_move</th>\n",
              "      <th>down_move</th>\n",
              "      <th>avg_up</th>\n",
              "      <th>avg_down</th>\n",
              "      <th>RS</th>\n",
              "      <th>RSI</th>\n",
              "      <th>BUY</th>\n",
              "    </tr>\n",
              "    <tr>\n",
              "      <th>Date</th>\n",
              "      <th></th>\n",
              "      <th></th>\n",
              "      <th></th>\n",
              "      <th></th>\n",
              "      <th></th>\n",
              "      <th></th>\n",
              "      <th></th>\n",
              "      <th></th>\n",
              "      <th></th>\n",
              "      <th></th>\n",
              "      <th></th>\n",
              "      <th></th>\n",
              "      <th></th>\n",
              "      <th></th>\n",
              "      <th></th>\n",
              "    </tr>\n",
              "  </thead>\n",
              "  <tbody>\n",
              "    <tr>\n",
              "      <th>2017-01-18</th>\n",
              "      <td>52.520000</td>\n",
              "      <td>52.790001</td>\n",
              "      <td>50.910000</td>\n",
              "      <td>51.080002</td>\n",
              "      <td>51.080002</td>\n",
              "      <td>236238</td>\n",
              "      <td>52.775714</td>\n",
              "      <td>-0.026677</td>\n",
              "      <td>0.000000</td>\n",
              "      <td>0.026677</td>\n",
              "      <td>0.000000</td>\n",
              "      <td>0.026677</td>\n",
              "      <td>0.000000</td>\n",
              "      <td>0.000000</td>\n",
              "      <td>NO</td>\n",
              "    </tr>\n",
              "    <tr>\n",
              "      <th>2017-01-19</th>\n",
              "      <td>51.389999</td>\n",
              "      <td>51.869999</td>\n",
              "      <td>51.020000</td>\n",
              "      <td>51.369999</td>\n",
              "      <td>51.369999</td>\n",
              "      <td>122593</td>\n",
              "      <td>52.583571</td>\n",
              "      <td>0.005677</td>\n",
              "      <td>0.005677</td>\n",
              "      <td>0.000000</td>\n",
              "      <td>0.003028</td>\n",
              "      <td>0.012449</td>\n",
              "      <td>0.243221</td>\n",
              "      <td>19.563783</td>\n",
              "      <td>NO</td>\n",
              "    </tr>\n",
              "    <tr>\n",
              "      <th>2017-01-20</th>\n",
              "      <td>51.450001</td>\n",
              "      <td>52.900002</td>\n",
              "      <td>51.389999</td>\n",
              "      <td>52.419998</td>\n",
              "      <td>52.419998</td>\n",
              "      <td>567231</td>\n",
              "      <td>52.487143</td>\n",
              "      <td>0.020440</td>\n",
              "      <td>0.020440</td>\n",
              "      <td>0.000000</td>\n",
              "      <td>0.009622</td>\n",
              "      <td>0.007735</td>\n",
              "      <td>1.243981</td>\n",
              "      <td>55.436339</td>\n",
              "      <td>NO</td>\n",
              "    </tr>\n",
              "    <tr>\n",
              "      <th>2017-01-23</th>\n",
              "      <td>53.330002</td>\n",
              "      <td>53.470001</td>\n",
              "      <td>52.209999</td>\n",
              "      <td>52.750000</td>\n",
              "      <td>52.750000</td>\n",
              "      <td>455333</td>\n",
              "      <td>52.417857</td>\n",
              "      <td>0.006295</td>\n",
              "      <td>0.006295</td>\n",
              "      <td>0.000000</td>\n",
              "      <td>0.008617</td>\n",
              "      <td>0.005398</td>\n",
              "      <td>1.596239</td>\n",
              "      <td>61.482752</td>\n",
              "      <td>YES</td>\n",
              "    </tr>\n",
              "    <tr>\n",
              "      <th>2017-01-24</th>\n",
              "      <td>52.860001</td>\n",
              "      <td>53.560001</td>\n",
              "      <td>52.669998</td>\n",
              "      <td>53.180000</td>\n",
              "      <td>53.180000</td>\n",
              "      <td>520285</td>\n",
              "      <td>52.478571</td>\n",
              "      <td>0.008152</td>\n",
              "      <td>0.008152</td>\n",
              "      <td>0.000000</td>\n",
              "      <td>0.008498</td>\n",
              "      <td>0.004013</td>\n",
              "      <td>2.117531</td>\n",
              "      <td>67.923333</td>\n",
              "      <td>YES</td>\n",
              "    </tr>\n",
              "    <tr>\n",
              "      <th>...</th>\n",
              "      <td>...</td>\n",
              "      <td>...</td>\n",
              "      <td>...</td>\n",
              "      <td>...</td>\n",
              "      <td>...</td>\n",
              "      <td>...</td>\n",
              "      <td>...</td>\n",
              "      <td>...</td>\n",
              "      <td>...</td>\n",
              "      <td>...</td>\n",
              "      <td>...</td>\n",
              "      <td>...</td>\n",
              "      <td>...</td>\n",
              "      <td>...</td>\n",
              "      <td>...</td>\n",
              "    </tr>\n",
              "    <tr>\n",
              "      <th>2020-12-22</th>\n",
              "      <td>47.930000</td>\n",
              "      <td>47.959999</td>\n",
              "      <td>46.599998</td>\n",
              "      <td>47.020000</td>\n",
              "      <td>47.020000</td>\n",
              "      <td>295737</td>\n",
              "      <td>46.912857</td>\n",
              "      <td>-0.015082</td>\n",
              "      <td>0.000000</td>\n",
              "      <td>0.015082</td>\n",
              "      <td>0.007858</td>\n",
              "      <td>0.006474</td>\n",
              "      <td>1.213878</td>\n",
              "      <td>54.830388</td>\n",
              "      <td>YES</td>\n",
              "    </tr>\n",
              "    <tr>\n",
              "      <th>2020-12-23</th>\n",
              "      <td>46.790001</td>\n",
              "      <td>48.500000</td>\n",
              "      <td>46.160000</td>\n",
              "      <td>48.119999</td>\n",
              "      <td>48.119999</td>\n",
              "      <td>344306</td>\n",
              "      <td>47.090000</td>\n",
              "      <td>0.023394</td>\n",
              "      <td>0.023394</td>\n",
              "      <td>0.000000</td>\n",
              "      <td>0.009800</td>\n",
              "      <td>0.005664</td>\n",
              "      <td>1.730139</td>\n",
              "      <td>63.371824</td>\n",
              "      <td>YES</td>\n",
              "    </tr>\n",
              "    <tr>\n",
              "      <th>2020-12-28</th>\n",
              "      <td>48.230000</td>\n",
              "      <td>48.959999</td>\n",
              "      <td>47.500000</td>\n",
              "      <td>47.619999</td>\n",
              "      <td>47.619999</td>\n",
              "      <td>238462</td>\n",
              "      <td>47.187143</td>\n",
              "      <td>-0.010391</td>\n",
              "      <td>0.000000</td>\n",
              "      <td>0.010391</td>\n",
              "      <td>0.008575</td>\n",
              "      <td>0.006255</td>\n",
              "      <td>1.370888</td>\n",
              "      <td>57.821705</td>\n",
              "      <td>YES</td>\n",
              "    </tr>\n",
              "    <tr>\n",
              "      <th>2020-12-29</th>\n",
              "      <td>47.720001</td>\n",
              "      <td>48.349998</td>\n",
              "      <td>47.680000</td>\n",
              "      <td>48.000000</td>\n",
              "      <td>48.000000</td>\n",
              "      <td>213778</td>\n",
              "      <td>47.347143</td>\n",
              "      <td>0.007980</td>\n",
              "      <td>0.007980</td>\n",
              "      <td>0.000000</td>\n",
              "      <td>0.008501</td>\n",
              "      <td>0.005473</td>\n",
              "      <td>1.553135</td>\n",
              "      <td>60.832460</td>\n",
              "      <td>YES</td>\n",
              "    </tr>\n",
              "    <tr>\n",
              "      <th>2020-12-30</th>\n",
              "      <td>48.130001</td>\n",
              "      <td>48.660000</td>\n",
              "      <td>47.610001</td>\n",
              "      <td>48.400002</td>\n",
              "      <td>48.400002</td>\n",
              "      <td>266957</td>\n",
              "      <td>47.547143</td>\n",
              "      <td>0.008333</td>\n",
              "      <td>0.008333</td>\n",
              "      <td>0.000000</td>\n",
              "      <td>0.008480</td>\n",
              "      <td>0.004789</td>\n",
              "      <td>1.770643</td>\n",
              "      <td>63.907301</td>\n",
              "      <td>YES</td>\n",
              "    </tr>\n",
              "  </tbody>\n",
              "</table>\n",
              "<p>986 rows × 15 columns</p>\n",
              "</div>"
            ],
            "text/plain": [
              "                 Open       High        Low      Close  Adj Close  Volume  \\\n",
              "Date                                                                        \n",
              "2017-01-18  52.520000  52.790001  50.910000  51.080002  51.080002  236238   \n",
              "2017-01-19  51.389999  51.869999  51.020000  51.369999  51.369999  122593   \n",
              "2017-01-20  51.450001  52.900002  51.389999  52.419998  52.419998  567231   \n",
              "2017-01-23  53.330002  53.470001  52.209999  52.750000  52.750000  455333   \n",
              "2017-01-24  52.860001  53.560001  52.669998  53.180000  53.180000  520285   \n",
              "...               ...        ...        ...        ...        ...     ...   \n",
              "2020-12-22  47.930000  47.959999  46.599998  47.020000  47.020000  295737   \n",
              "2020-12-23  46.790001  48.500000  46.160000  48.119999  48.119999  344306   \n",
              "2020-12-28  48.230000  48.959999  47.500000  47.619999  47.619999  238462   \n",
              "2020-12-29  47.720001  48.349998  47.680000  48.000000  48.000000  213778   \n",
              "2020-12-30  48.130001  48.660000  47.610001  48.400002  48.400002  266957   \n",
              "\n",
              "                MA_14  price_change   up_move  down_move    avg_up  avg_down  \\\n",
              "Date                                                                           \n",
              "2017-01-18  52.775714     -0.026677  0.000000   0.026677  0.000000  0.026677   \n",
              "2017-01-19  52.583571      0.005677  0.005677   0.000000  0.003028  0.012449   \n",
              "2017-01-20  52.487143      0.020440  0.020440   0.000000  0.009622  0.007735   \n",
              "2017-01-23  52.417857      0.006295  0.006295   0.000000  0.008617  0.005398   \n",
              "2017-01-24  52.478571      0.008152  0.008152   0.000000  0.008498  0.004013   \n",
              "...               ...           ...       ...        ...       ...       ...   \n",
              "2020-12-22  46.912857     -0.015082  0.000000   0.015082  0.007858  0.006474   \n",
              "2020-12-23  47.090000      0.023394  0.023394   0.000000  0.009800  0.005664   \n",
              "2020-12-28  47.187143     -0.010391  0.000000   0.010391  0.008575  0.006255   \n",
              "2020-12-29  47.347143      0.007980  0.007980   0.000000  0.008501  0.005473   \n",
              "2020-12-30  47.547143      0.008333  0.008333   0.000000  0.008480  0.004789   \n",
              "\n",
              "                  RS        RSI  BUY  \n",
              "Date                                  \n",
              "2017-01-18  0.000000   0.000000   NO  \n",
              "2017-01-19  0.243221  19.563783   NO  \n",
              "2017-01-20  1.243981  55.436339   NO  \n",
              "2017-01-23  1.596239  61.482752  YES  \n",
              "2017-01-24  2.117531  67.923333  YES  \n",
              "...              ...        ...  ...  \n",
              "2020-12-22  1.213878  54.830388  YES  \n",
              "2020-12-23  1.730139  63.371824  YES  \n",
              "2020-12-28  1.370888  57.821705  YES  \n",
              "2020-12-29  1.553135  60.832460  YES  \n",
              "2020-12-30  1.770643  63.907301  YES  \n",
              "\n",
              "[986 rows x 15 columns]"
            ]
          },
          "metadata": {
            "tags": []
          },
          "execution_count": 109
        }
      ]
    },
    {
      "cell_type": "code",
      "metadata": {
        "colab": {
          "base_uri": "https://localhost:8080/",
          "height": 375
        },
        "id": "obr5Fd_p3K7n",
        "outputId": "3fc3fe3a-dcfc-4942-b341-406618647472"
      },
      "source": [
        "plt.figure(figsize=(15,6))\n",
        "df['RSI'].plot(legend=True).axhline(y=50, color=\"black\", lw=2)\n",
        "df['Adj Close'].plot(legend=True)\n",
        "plt.grid(True)"
      ],
      "execution_count": 123,
      "outputs": [
        {
          "output_type": "display_data",
          "data": {
            "image/png": "[encoded data removed]",
            "text/plain": [
              "<Figure size 1080x432 with 1 Axes>"
            ]
          },
          "metadata": {
            "tags": [],
            "needs_background": "light"
          }
        }
      ]
    },
    {
      "cell_type": "code",
      "metadata": {
        "colab": {
          "base_uri": "https://localhost:8080/"
        },
        "id": "-MfEpCQLfXOu",
        "outputId": "2da8d9e1-6a94-47fb-8cb9-6aeab03475cd"
      },
      "source": [
        "pd.value_counts(df.BUY)"
      ],
      "execution_count": 110,
      "outputs": [
        {
          "output_type": "execute_result",
          "data": {
            "text/plain": [
              "YES    572\n",
              "NO     414\n",
              "Name: BUY, dtype: int64"
            ]
          },
          "metadata": {
            "tags": []
          },
          "execution_count": 110
        }
      ]
    },
    {
      "cell_type": "code",
      "metadata": {
        "colab": {
          "base_uri": "https://localhost:8080/",
          "height": 417
        },
        "id": "fHAEVyULfbx1",
        "outputId": "a9e273e0-ef5b-4b8d-e4ef-884e019c7d70"
      },
      "source": [
        "PnL = []\n",
        "\n",
        "for i in range(len(df) - 12):\n",
        "  if \"YES\" in df['BUY'].iloc[i]:\n",
        "    for j in range(1,11):\n",
        "      if df['RSI'].iloc[i+j] > 70:\n",
        "        PnL.append(df['Open'].iloc[i+j+1] - df['Open'].iloc[i+1])\n",
        "        break\n",
        "      if df['RSI'].iloc[i+j] < 30:\n",
        "        PnL.append(df['Open'].iloc[i+12] - df['Open'].iloc[i+1])\n",
        "        break\n",
        "\n",
        "pd.DataFrame(PnL)"
      ],
      "execution_count": 111,
      "outputs": [
        {
          "output_type": "execute_result",
          "data": {
            "text/html": [
              "<div>\n",
              "<style scoped>\n",
              "    .dataframe tbody tr th:only-of-type {\n",
              "        vertical-align: middle;\n",
              "    }\n",
              "\n",
              "    .dataframe tbody tr th {\n",
              "        vertical-align: top;\n",
              "    }\n",
              "\n",
              "    .dataframe thead th {\n",
              "        text-align: right;\n",
              "    }\n",
              "</style>\n",
              "<table border=\"1\" class=\"dataframe\">\n",
              "  <thead>\n",
              "    <tr style=\"text-align: right;\">\n",
              "      <th></th>\n",
              "      <th>0</th>\n",
              "    </tr>\n",
              "  </thead>\n",
              "  <tbody>\n",
              "    <tr>\n",
              "      <th>0</th>\n",
              "      <td>0.880001</td>\n",
              "    </tr>\n",
              "    <tr>\n",
              "      <th>1</th>\n",
              "      <td>0.790001</td>\n",
              "    </tr>\n",
              "    <tr>\n",
              "      <th>2</th>\n",
              "      <td>0.780003</td>\n",
              "    </tr>\n",
              "    <tr>\n",
              "      <th>3</th>\n",
              "      <td>-4.299999</td>\n",
              "    </tr>\n",
              "    <tr>\n",
              "      <th>4</th>\n",
              "      <td>-5.880001</td>\n",
              "    </tr>\n",
              "    <tr>\n",
              "      <th>...</th>\n",
              "      <td>...</td>\n",
              "    </tr>\n",
              "    <tr>\n",
              "      <th>356</th>\n",
              "      <td>0.820000</td>\n",
              "    </tr>\n",
              "    <tr>\n",
              "      <th>357</th>\n",
              "      <td>1.310001</td>\n",
              "    </tr>\n",
              "    <tr>\n",
              "      <th>358</th>\n",
              "      <td>1.370003</td>\n",
              "    </tr>\n",
              "    <tr>\n",
              "      <th>359</th>\n",
              "      <td>1.280003</td>\n",
              "    </tr>\n",
              "    <tr>\n",
              "      <th>360</th>\n",
              "      <td>-0.240002</td>\n",
              "    </tr>\n",
              "  </tbody>\n",
              "</table>\n",
              "<p>361 rows × 1 columns</p>\n",
              "</div>"
            ],
            "text/plain": [
              "            0\n",
              "0    0.880001\n",
              "1    0.790001\n",
              "2    0.780003\n",
              "3   -4.299999\n",
              "4   -5.880001\n",
              "..        ...\n",
              "356  0.820000\n",
              "357  1.310001\n",
              "358  1.370003\n",
              "359  1.280003\n",
              "360 -0.240002\n",
              "\n",
              "[361 rows x 1 columns]"
            ]
          },
          "metadata": {
            "tags": []
          },
          "execution_count": 111
        }
      ]
    },
    {
      "cell_type": "code",
      "metadata": {
        "colab": {
          "base_uri": "https://localhost:8080/"
        },
        "id": "v1CMTR7SfinF",
        "outputId": "e5ce8b3f-5573-469b-bd70-fa1146827c1f"
      },
      "source": [
        "len([i for i in PnL if i > 0])\n",
        "len(PnL)\n",
        "# winning rate\n",
        "print(len([i for i in PnL if i > 0]) / len(PnL))"
      ],
      "execution_count": 112,
      "outputs": [
        {
          "output_type": "stream",
          "text": [
            "0.7229916897506925\n"
          ],
          "name": "stdout"
        }
      ]
    },
    {
      "cell_type": "code",
      "metadata": {
        "colab": {
          "base_uri": "https://localhost:8080/"
        },
        "id": "Jf2jOphif0UM",
        "outputId": "eecf0f89-0abb-472b-98b8-08831325ec8d"
      },
      "source": [
        "tickers=[\"CL=F\"]\n",
        "start_date = dt.datetime(2015,12,31)\n",
        "end_date = dt.datetime(2020,12,31)\n",
        "\n",
        "def RSI_calculation(symbol):\n",
        "  data = yf.download(tickers, start = start_date, end=end_date)\n",
        "  data['MA_14'] = data['Adj Close'].rolling(window=14).mean()\n",
        "  data['price_change'] = data['Adj Close'].pct_change()\n",
        "  data['up_move'] = data['price_change'].apply(lambda x: x if x > 0 else 0)\n",
        "  data['down_move'] = data['price_change'].apply(lambda x: abs(x) if x < 0 else 0)\n",
        "  data['avg_up'] = data['up_move'].ewm(span=14).mean()\n",
        "  data['avg_down'] = data['down_move'].ewm(span=14).mean()\n",
        "  data = data.dropna()\n",
        "  data['RS'] = data['avg_up'] / data['avg_down']\n",
        "  data['RSI'] = data['RS'].apply(lambda x: 100 - (100/(x+1)))\n",
        "  data.loc[(data['Adj Close'] > data['MA_14']) & (data['RSI'] > 30), \"BUY\"] = 'YES'\n",
        "  data.loc[(data['Adj Close'] < data['MA_14']) | (data['RSI'] < 30), \"BUY\"] = 'NO'\n",
        "  return (data)\n",
        "\n",
        "def get_signals(data):\n",
        "  buy_date = []\n",
        "  sell_date = []\n",
        "\n",
        "  for i in range(len(data) - 11):\n",
        "    if \"YES\" in data['BUY'].iloc[i]:\n",
        "      buy_date.append(data.iloc[i+1].name)\n",
        "      for j in range(1,11):\n",
        "        if data['RSI'].iloc[i+j] > 70:\n",
        "          sell_date.append(data.iloc[i+j+1].name)\n",
        "          break\n",
        "        elif j == 10:\n",
        "          sell_date.append(data.iloc[i+j+1].name)\n",
        "\n",
        "  return (buy_date, sell_date)\n",
        "\n",
        "dataframe = RSI_calculation(tickers[0])\n",
        "buy, sell = get_signals(dataframe)\n"
      ],
      "execution_count": 94,
      "outputs": [
        {
          "output_type": "stream",
          "text": [
            "\r[*********************100%***********************]  1 of 1 completed\n"
          ],
          "name": "stdout"
        }
      ]
    },
    {
      "cell_type": "code",
      "metadata": {
        "colab": {
          "base_uri": "https://localhost:8080/",
          "height": 374
        },
        "id": "uQvtl6r5gBls",
        "outputId": "91489575-8cc0-4432-a458-a3e21125d638"
      },
      "source": [
        "plt.figure(figsize = (15,6))\n",
        "plt.scatter(dataframe.loc[buy].index, \n",
        "            dataframe.loc[buy]['Adj Close'], \n",
        "            marker = '^', \n",
        "            c = 'k')\n",
        "plt.plot(dataframe['Adj Close'])\n",
        "plt.grid(True); plt.show()"
      ],
      "execution_count": 95,
      "outputs": [
        {
          "output_type": "display_data",
          "data": {
            "image/png": "[encoded data removed]",
            "text/plain": [
              "<Figure size 1080x432 with 1 Axes>"
            ]
          },
          "metadata": {
            "tags": [],
            "needs_background": "light"
          }
        }
      ]
    },
    {
      "cell_type": "code",
      "metadata": {
        "colab": {
          "base_uri": "https://localhost:8080/"
        },
        "id": "EPqEWWQHgmr0",
        "outputId": "f651ea5d-a1e5-4c54-e4e1-317dc17a07d5"
      },
      "source": [
        "profits = (dataframe.loc[sell].Open.values - dataframe.loc[buy].Open.values) / dataframe.loc[sell].Open.values\n",
        "len([i for i in profits if i > 0]) / len(profits)"
      ],
      "execution_count": 96,
      "outputs": [
        {
          "output_type": "execute_result",
          "data": {
            "text/plain": [
              "0.6718092566619915"
            ]
          },
          "metadata": {
            "tags": []
          },
          "execution_count": 96
        }
      ]
    },
    {
      "cell_type": "code",
      "metadata": {
        "colab": {
          "base_uri": "https://localhost:8080/"
        },
        "id": "oD7G3RrDgwf8",
        "outputId": "b347d86b-9a8e-4e4c-b906-2e0468f836fc"
      },
      "source": [
        "len(profits)"
      ],
      "execution_count": 97,
      "outputs": [
        {
          "output_type": "execute_result",
          "data": {
            "text/plain": [
              "713"
            ]
          },
          "metadata": {
            "tags": []
          },
          "execution_count": 97
        }
      ]
    },
    {
      "cell_type": "code",
      "metadata": {
        "colab": {
          "base_uri": "https://localhost:8080/"
        },
        "id": "6Y77_H5hgzIM",
        "outputId": "a7a3985f-3f88-4fb3-d415-53d9bc17226b"
      },
      "source": [
        "matrix_signals = []\n",
        "matrix_profit = []\n",
        "\n",
        "for i in range(len(tickers)):\n",
        "  dataframe = RSI_calculation(tickers[i])\n",
        "  buy, sell = get_signals(dataframe)\n",
        "  profits = (dataframe.loc[sell].Open.values - dataframe.loc[buy].Open.values) / dataframe.loc[sell].Open.values\n",
        "  matrix_signals.append(buy)\n",
        "  matrix_profit.append(profits)"
      ],
      "execution_count": 62,
      "outputs": [
        {
          "output_type": "stream",
          "text": [
            "\r[*********************100%***********************]  1 of 1 completed\n"
          ],
          "name": "stdout"
        }
      ]
    },
    {
      "cell_type": "code",
      "metadata": {
        "colab": {
          "base_uri": "https://localhost:8080/",
          "height": 417
        },
        "id": "PTi5onKrg3QM",
        "outputId": "ee9dfbdd-9126-49cc-89a5-6e1deef93b4e"
      },
      "source": [
        "final_profit = []\n",
        "\n",
        "for i in matrix_profit:\n",
        "  for e in i:\n",
        "    final_profit.append(e)\n",
        "\n",
        "DataFrame(final_profit)"
      ],
      "execution_count": 63,
      "outputs": [
        {
          "output_type": "execute_result",
          "data": {
            "text/html": [
              "<div>\n",
              "<style scoped>\n",
              "    .dataframe tbody tr th:only-of-type {\n",
              "        vertical-align: middle;\n",
              "    }\n",
              "\n",
              "    .dataframe tbody tr th {\n",
              "        vertical-align: top;\n",
              "    }\n",
              "\n",
              "    .dataframe thead th {\n",
              "        text-align: right;\n",
              "    }\n",
              "</style>\n",
              "<table border=\"1\" class=\"dataframe\">\n",
              "  <thead>\n",
              "    <tr style=\"text-align: right;\">\n",
              "      <th></th>\n",
              "      <th>0</th>\n",
              "    </tr>\n",
              "  </thead>\n",
              "  <tbody>\n",
              "    <tr>\n",
              "      <th>0</th>\n",
              "      <td>-0.034872</td>\n",
              "    </tr>\n",
              "    <tr>\n",
              "      <th>1</th>\n",
              "      <td>-0.077221</td>\n",
              "    </tr>\n",
              "    <tr>\n",
              "      <th>2</th>\n",
              "      <td>-0.177396</td>\n",
              "    </tr>\n",
              "    <tr>\n",
              "      <th>3</th>\n",
              "      <td>-0.234432</td>\n",
              "    </tr>\n",
              "    <tr>\n",
              "      <th>4</th>\n",
              "      <td>-0.163343</td>\n",
              "    </tr>\n",
              "    <tr>\n",
              "      <th>...</th>\n",
              "      <td>...</td>\n",
              "    </tr>\n",
              "    <tr>\n",
              "      <th>707</th>\n",
              "      <td>0.027890</td>\n",
              "    </tr>\n",
              "    <tr>\n",
              "      <th>708</th>\n",
              "      <td>0.029168</td>\n",
              "    </tr>\n",
              "    <tr>\n",
              "      <th>709</th>\n",
              "      <td>0.027251</td>\n",
              "    </tr>\n",
              "    <tr>\n",
              "      <th>710</th>\n",
              "      <td>-0.005136</td>\n",
              "    </tr>\n",
              "    <tr>\n",
              "      <th>711</th>\n",
              "      <td>0.005533</td>\n",
              "    </tr>\n",
              "  </tbody>\n",
              "</table>\n",
              "<p>712 rows × 1 columns</p>\n",
              "</div>"
            ],
            "text/plain": [
              "            0\n",
              "0   -0.034872\n",
              "1   -0.077221\n",
              "2   -0.177396\n",
              "3   -0.234432\n",
              "4   -0.163343\n",
              "..        ...\n",
              "707  0.027890\n",
              "708  0.029168\n",
              "709  0.027251\n",
              "710 -0.005136\n",
              "711  0.005533\n",
              "\n",
              "[712 rows x 1 columns]"
            ]
          },
          "metadata": {
            "tags": []
          },
          "execution_count": 63
        }
      ]
    },
    {
      "cell_type": "code",
      "metadata": {
        "colab": {
          "base_uri": "https://localhost:8080/"
        },
        "id": "URHLqLcXhAKl",
        "outputId": "8780ddab-0544-49ec-b0d1-cb3aa80fefb8"
      },
      "source": [
        "wins = [i for i in final_profit if i > 0]\n",
        "len(wins) / len(final_profit)"
      ],
      "execution_count": 64,
      "outputs": [
        {
          "output_type": "execute_result",
          "data": {
            "text/plain": [
              "0.6769662921348315"
            ]
          },
          "metadata": {
            "tags": []
          },
          "execution_count": 64
        }
      ]
    },
    {
      "cell_type": "code",
      "metadata": {
        "colab": {
          "base_uri": "https://localhost:8080/",
          "height": 265
        },
        "id": "hnVVyys0hCpt",
        "outputId": "6fc58027-73d2-4d56-b2be-2cf70e8bbc77"
      },
      "source": [
        "plt.hist(final_profit, bins=100)\n",
        "plt.show()"
      ],
      "execution_count": 65,
      "outputs": [
        {
          "output_type": "display_data",
          "data": {
            "image/png": "[encoded data removed]",
            "text/plain": [
              "<Figure size 432x288 with 1 Axes>"
            ]
          },
          "metadata": {
            "tags": [],
            "needs_background": "light"
          }
        }
      ]
    },
    {
      "cell_type": "code",
      "metadata": {
        "colab": {
          "base_uri": "https://localhost:8080/"
        },
        "id": "WI_ffdHjhHjt",
        "outputId": "c0737bcf-8a06-4dcc-a8bb-dd602a96c01e"
      },
      "source": [
        "for i in matrix_signals:\n",
        "  for e in i:\n",
        "    if e.year == 2020:\n",
        "      print(e)"
      ],
      "execution_count": 66,
      "outputs": [
        {
          "output_type": "stream",
          "text": [
            "2020-01-02 00:00:00\n",
            "2020-01-03 00:00:00\n",
            "2020-01-06 00:00:00\n",
            "2020-01-07 00:00:00\n",
            "2020-01-08 00:00:00\n",
            "2020-02-18 00:00:00\n",
            "2020-02-19 00:00:00\n",
            "2020-02-20 00:00:00\n",
            "2020-02-21 00:00:00\n",
            "2020-02-24 00:00:00\n",
            "2020-02-25 00:00:00\n",
            "2020-04-03 00:00:00\n",
            "2020-04-06 00:00:00\n",
            "2020-04-07 00:00:00\n",
            "2020-04-08 00:00:00\n",
            "2020-04-09 00:00:00\n",
            "2020-05-01 00:00:00\n",
            "2020-05-04 00:00:00\n",
            "2020-05-05 00:00:00\n",
            "2020-05-06 00:00:00\n",
            "2020-05-07 00:00:00\n",
            "2020-05-08 00:00:00\n",
            "2020-05-11 00:00:00\n",
            "2020-05-12 00:00:00\n",
            "2020-05-13 00:00:00\n",
            "2020-05-14 00:00:00\n",
            "2020-05-15 00:00:00\n",
            "2020-05-18 00:00:00\n",
            "2020-05-19 00:00:00\n",
            "2020-05-20 00:00:00\n",
            "2020-05-21 00:00:00\n",
            "2020-05-22 00:00:00\n",
            "2020-05-26 00:00:00\n",
            "2020-05-27 00:00:00\n",
            "2020-05-28 00:00:00\n",
            "2020-05-29 00:00:00\n",
            "2020-06-01 00:00:00\n",
            "2020-06-02 00:00:00\n",
            "2020-06-03 00:00:00\n",
            "2020-06-04 00:00:00\n",
            "2020-06-05 00:00:00\n",
            "2020-06-08 00:00:00\n",
            "2020-06-09 00:00:00\n",
            "2020-06-10 00:00:00\n",
            "2020-06-11 00:00:00\n",
            "2020-06-12 00:00:00\n",
            "2020-06-16 00:00:00\n",
            "2020-06-17 00:00:00\n",
            "2020-06-18 00:00:00\n",
            "2020-06-19 00:00:00\n",
            "2020-06-22 00:00:00\n",
            "2020-06-23 00:00:00\n",
            "2020-06-24 00:00:00\n",
            "2020-06-26 00:00:00\n",
            "2020-06-30 00:00:00\n",
            "2020-07-01 00:00:00\n",
            "2020-07-02 00:00:00\n",
            "2020-07-06 00:00:00\n",
            "2020-07-07 00:00:00\n",
            "2020-07-08 00:00:00\n",
            "2020-07-09 00:00:00\n",
            "2020-07-13 00:00:00\n",
            "2020-07-14 00:00:00\n",
            "2020-07-15 00:00:00\n",
            "2020-07-16 00:00:00\n",
            "2020-07-17 00:00:00\n",
            "2020-07-20 00:00:00\n",
            "2020-07-21 00:00:00\n",
            "2020-07-22 00:00:00\n",
            "2020-07-23 00:00:00\n",
            "2020-07-24 00:00:00\n",
            "2020-07-27 00:00:00\n",
            "2020-07-28 00:00:00\n",
            "2020-07-29 00:00:00\n",
            "2020-07-30 00:00:00\n",
            "2020-08-04 00:00:00\n",
            "2020-08-05 00:00:00\n",
            "2020-08-06 00:00:00\n",
            "2020-08-07 00:00:00\n",
            "2020-08-11 00:00:00\n",
            "2020-08-12 00:00:00\n",
            "2020-08-13 00:00:00\n",
            "2020-08-14 00:00:00\n",
            "2020-08-17 00:00:00\n",
            "2020-08-18 00:00:00\n",
            "2020-08-19 00:00:00\n",
            "2020-08-20 00:00:00\n",
            "2020-08-21 00:00:00\n",
            "2020-08-24 00:00:00\n",
            "2020-08-25 00:00:00\n",
            "2020-08-26 00:00:00\n",
            "2020-08-27 00:00:00\n",
            "2020-08-28 00:00:00\n",
            "2020-08-31 00:00:00\n",
            "2020-09-02 00:00:00\n",
            "2020-09-18 00:00:00\n",
            "2020-09-21 00:00:00\n",
            "2020-09-23 00:00:00\n",
            "2020-09-24 00:00:00\n",
            "2020-09-25 00:00:00\n",
            "2020-09-28 00:00:00\n",
            "2020-09-29 00:00:00\n",
            "2020-10-01 00:00:00\n",
            "2020-10-07 00:00:00\n",
            "2020-10-08 00:00:00\n",
            "2020-10-09 00:00:00\n",
            "2020-10-12 00:00:00\n",
            "2020-10-14 00:00:00\n",
            "2020-10-15 00:00:00\n",
            "2020-10-16 00:00:00\n",
            "2020-10-19 00:00:00\n",
            "2020-10-20 00:00:00\n",
            "2020-10-21 00:00:00\n",
            "2020-10-23 00:00:00\n",
            "2020-11-05 00:00:00\n",
            "2020-11-10 00:00:00\n",
            "2020-11-11 00:00:00\n",
            "2020-11-12 00:00:00\n",
            "2020-11-13 00:00:00\n",
            "2020-11-16 00:00:00\n",
            "2020-11-17 00:00:00\n",
            "2020-11-18 00:00:00\n",
            "2020-11-19 00:00:00\n",
            "2020-11-20 00:00:00\n",
            "2020-11-23 00:00:00\n",
            "2020-11-24 00:00:00\n",
            "2020-11-25 00:00:00\n",
            "2020-11-30 00:00:00\n",
            "2020-12-01 00:00:00\n",
            "2020-12-02 00:00:00\n",
            "2020-12-03 00:00:00\n",
            "2020-12-04 00:00:00\n",
            "2020-12-07 00:00:00\n",
            "2020-12-08 00:00:00\n",
            "2020-12-09 00:00:00\n",
            "2020-12-10 00:00:00\n",
            "2020-12-11 00:00:00\n",
            "2020-12-14 00:00:00\n"
          ],
          "name": "stdout"
        }
      ]
    },
    {
      "cell_type": "code",
      "metadata": {
        "colab": {
          "base_uri": "https://localhost:8080/"
        },
        "id": "kKH6Zlp_nCWs",
        "outputId": "9ccaf25a-688b-444a-97e3-8344966c94d9"
      },
      "source": [
        "import numpy as np\n",
        "import warnings\n",
        "warnings.simplefilter(action = \"ignore\", category = RuntimeWarning)\n",
        "\n",
        "ticker = \"CL=F\"\n",
        "start_date = dt.datetime(2010,12,31)\n",
        "end_date = dt.datetime(2020,12,31)\n",
        "class DataBase():\n",
        "  def __init__(self, ticker, days):\n",
        "    self.ticker = ticker\n",
        "    data = yf.download(ticker, start = start_date, end =end_date )\n",
        "    self.df = DataFrame(data)\n",
        "    pd.set_option(\"display.max_columns\", None)\n",
        "    self.df[self.df.index.dayofweek < 5]\n",
        "    self.df= self.df[-days:]\n",
        "\n",
        "  def quote(self):\n",
        "    return self.df\n",
        "\n",
        "db = DataBase(ticker, 1000)\n",
        "df = db.quote()\n",
        "# print(df.tail())\n",
        "\n",
        "# calculate the return of the day and add as new column\n",
        "df['price_change'] = np.log(df['Adj Close'] / df['Adj Close'].shift(1) )\n",
        "df.dropna(inplace=True)\n",
        "\n",
        "# calculate the movement on the price compared to the previous day closing price\n",
        "df['movement'] = df['Adj Close'] - df['Adj Close'].shift(1)\n",
        "\n",
        "df['up'] = np.where((df['movement'] > 0), df['movement'],0)\n",
        "\n",
        "df['down'] = np.where((df['movement'] < 0), df['movement'],0)\n",
        "\n",
        "window_size = 14\n",
        "# calculate moving average of the last 14 days  gains\n",
        "up = df['up'].rolling(window_size).mean()\n",
        "\n",
        "# calculate moving average of the last 14 days  losses\n",
        "down = df['down'].abs().rolling(window_length).mean()\n",
        "\n",
        "RS = up / down\n",
        "RSI = 100.0 - (100.0 / (1.0 + RS))\n",
        "\n",
        "RSI = RSI.rename(\"RSI\")\n",
        "print(RSI)"
      ],
      "execution_count": 102,
      "outputs": [
        {
          "output_type": "stream",
          "text": [
            "\r[*********************100%***********************]  1 of 1 completed\n",
            "Date\n",
            "2016-12-28          NaN\n",
            "2016-12-29          NaN\n",
            "2016-12-30          NaN\n",
            "2017-01-03          NaN\n",
            "2017-01-04          NaN\n",
            "                ...    \n",
            "2020-12-22    61.153869\n",
            "2020-12-23    64.519922\n",
            "2020-12-28    58.076022\n",
            "2020-12-29    63.494000\n",
            "2020-12-30    66.393473\n",
            "Name: RSI, Length: 997, dtype: float64\n"
          ],
          "name": "stdout"
        }
      ]
    },
    {
      "cell_type": "markdown",
      "metadata": {
        "id": "8CzUAwy9o8Ec"
      },
      "source": [
        "We need three lines of code to ensure that our strategy is defined appropriately. E.g. 1 when we need to be long:\n",
        "\n",
        "The first line of code on the long column, ensures that we will have a 1, if RSI is below 30.\n",
        "The second line of code, ensures that we will have 0 if the RSI is above 70.\n",
        "Then, finally, the third line of code, will ‘forward fill’ and propagate the last valid observation forward to get rid of the nan.\n",
        "Above three lines will ensure that we only go long when we cross the line from below 30.\n",
        "\n",
        "Finally, we calculate the gain and loss for each of the day and the accumulative return. Below screenshot shows that with this strategy, we would get an accumulative return of 50% if we followed the strategy during the last 5 years."
      ]
    },
    {
      "cell_type": "code",
      "metadata": {
        "colab": {
          "base_uri": "https://localhost:8080/",
          "height": 447
        },
        "id": "ESsCc6GHpA7z",
        "outputId": "f6a88730-3725-4320-e5a9-092f2830d81d"
      },
      "source": [
        "new_df = pd.merge(df, RSI, left_index=True, right_index=True)\n",
        "\n",
        "#If the indicator’s line crosses the level 30 from below, a long position (Buy) is opened.  \n",
        "new_df['long'] = np.where((new_df['RSI'] < 20),1,np.nan)\n",
        "new_df['long'] = np.where((new_df['RSI'] > 80),0, new_df['long'])\n",
        "\n",
        "new_df['long'].ffill(inplace=True)\n",
        "\n",
        "new_df['gain_loss'] = new_df['long'].shift(1) * new_df['price_change']\n",
        "\n",
        "new_df['total'] =  new_df['gain_loss'].cumsum()\n",
        "\n",
        "new_df[['Adj Close', 'price_change',\t'movement',\t\n",
        "       'up','down',\t'RSI','long','gain_loss', 'total']].tail(500)"
      ],
      "execution_count": 105,
      "outputs": [
        {
          "output_type": "execute_result",
          "data": {
            "text/html": [
              "<div>\n",
              "<style scoped>\n",
              "    .dataframe tbody tr th:only-of-type {\n",
              "        vertical-align: middle;\n",
              "    }\n",
              "\n",
              "    .dataframe tbody tr th {\n",
              "        vertical-align: top;\n",
              "    }\n",
              "\n",
              "    .dataframe thead th {\n",
              "        text-align: right;\n",
              "    }\n",
              "</style>\n",
              "<table border=\"1\" class=\"dataframe\">\n",
              "  <thead>\n",
              "    <tr style=\"text-align: right;\">\n",
              "      <th></th>\n",
              "      <th>Adj Close</th>\n",
              "      <th>price_change</th>\n",
              "      <th>movement</th>\n",
              "      <th>up</th>\n",
              "      <th>down</th>\n",
              "      <th>RSI</th>\n",
              "      <th>long</th>\n",
              "      <th>gain_loss</th>\n",
              "      <th>total</th>\n",
              "    </tr>\n",
              "    <tr>\n",
              "      <th>Date</th>\n",
              "      <th></th>\n",
              "      <th></th>\n",
              "      <th></th>\n",
              "      <th></th>\n",
              "      <th></th>\n",
              "      <th></th>\n",
              "      <th></th>\n",
              "      <th></th>\n",
              "      <th></th>\n",
              "    </tr>\n",
              "  </thead>\n",
              "  <tbody>\n",
              "    <tr>\n",
              "      <th>2018-12-27</th>\n",
              "      <td>44.610001</td>\n",
              "      <td>-0.035455</td>\n",
              "      <td>-1.610001</td>\n",
              "      <td>0.000000</td>\n",
              "      <td>-1.610001</td>\n",
              "      <td>26.289795</td>\n",
              "      <td>1.0</td>\n",
              "      <td>-0.035455</td>\n",
              "      <td>0.192317</td>\n",
              "    </tr>\n",
              "    <tr>\n",
              "      <th>2018-12-28</th>\n",
              "      <td>45.330002</td>\n",
              "      <td>0.016011</td>\n",
              "      <td>0.720001</td>\n",
              "      <td>0.720001</td>\n",
              "      <td>0.000000</td>\n",
              "      <td>32.072182</td>\n",
              "      <td>1.0</td>\n",
              "      <td>0.016011</td>\n",
              "      <td>0.208328</td>\n",
              "    </tr>\n",
              "    <tr>\n",
              "      <th>2018-12-31</th>\n",
              "      <td>45.410000</td>\n",
              "      <td>0.001763</td>\n",
              "      <td>0.079998</td>\n",
              "      <td>0.079998</td>\n",
              "      <td>0.000000</td>\n",
              "      <td>27.695169</td>\n",
              "      <td>1.0</td>\n",
              "      <td>0.001763</td>\n",
              "      <td>0.210092</td>\n",
              "    </tr>\n",
              "    <tr>\n",
              "      <th>2019-01-02</th>\n",
              "      <td>46.540001</td>\n",
              "      <td>0.024580</td>\n",
              "      <td>1.130001</td>\n",
              "      <td>1.130001</td>\n",
              "      <td>0.000000</td>\n",
              "      <td>35.759904</td>\n",
              "      <td>1.0</td>\n",
              "      <td>0.024580</td>\n",
              "      <td>0.234671</td>\n",
              "    </tr>\n",
              "    <tr>\n",
              "      <th>2019-01-03</th>\n",
              "      <td>47.090000</td>\n",
              "      <td>0.011748</td>\n",
              "      <td>0.549999</td>\n",
              "      <td>0.549999</td>\n",
              "      <td>0.000000</td>\n",
              "      <td>35.347041</td>\n",
              "      <td>1.0</td>\n",
              "      <td>0.011748</td>\n",
              "      <td>0.246420</td>\n",
              "    </tr>\n",
              "    <tr>\n",
              "      <th>...</th>\n",
              "      <td>...</td>\n",
              "      <td>...</td>\n",
              "      <td>...</td>\n",
              "      <td>...</td>\n",
              "      <td>...</td>\n",
              "      <td>...</td>\n",
              "      <td>...</td>\n",
              "      <td>...</td>\n",
              "      <td>...</td>\n",
              "    </tr>\n",
              "    <tr>\n",
              "      <th>2020-12-22</th>\n",
              "      <td>47.020000</td>\n",
              "      <td>-0.015197</td>\n",
              "      <td>-0.720001</td>\n",
              "      <td>0.000000</td>\n",
              "      <td>-0.720001</td>\n",
              "      <td>61.153869</td>\n",
              "      <td>0.0</td>\n",
              "      <td>-0.000000</td>\n",
              "      <td>0.704502</td>\n",
              "    </tr>\n",
              "    <tr>\n",
              "      <th>2020-12-23</th>\n",
              "      <td>48.119999</td>\n",
              "      <td>0.023125</td>\n",
              "      <td>1.099998</td>\n",
              "      <td>1.099998</td>\n",
              "      <td>0.000000</td>\n",
              "      <td>64.519922</td>\n",
              "      <td>0.0</td>\n",
              "      <td>0.000000</td>\n",
              "      <td>0.704502</td>\n",
              "    </tr>\n",
              "    <tr>\n",
              "      <th>2020-12-28</th>\n",
              "      <td>47.619999</td>\n",
              "      <td>-0.010445</td>\n",
              "      <td>-0.500000</td>\n",
              "      <td>0.000000</td>\n",
              "      <td>-0.500000</td>\n",
              "      <td>58.076022</td>\n",
              "      <td>0.0</td>\n",
              "      <td>-0.000000</td>\n",
              "      <td>0.704502</td>\n",
              "    </tr>\n",
              "    <tr>\n",
              "      <th>2020-12-29</th>\n",
              "      <td>48.000000</td>\n",
              "      <td>0.007948</td>\n",
              "      <td>0.380001</td>\n",
              "      <td>0.380001</td>\n",
              "      <td>0.000000</td>\n",
              "      <td>63.494000</td>\n",
              "      <td>0.0</td>\n",
              "      <td>0.000000</td>\n",
              "      <td>0.704502</td>\n",
              "    </tr>\n",
              "    <tr>\n",
              "      <th>2020-12-30</th>\n",
              "      <td>48.400002</td>\n",
              "      <td>0.008299</td>\n",
              "      <td>0.400002</td>\n",
              "      <td>0.400002</td>\n",
              "      <td>0.000000</td>\n",
              "      <td>66.393473</td>\n",
              "      <td>0.0</td>\n",
              "      <td>0.000000</td>\n",
              "      <td>0.704502</td>\n",
              "    </tr>\n",
              "  </tbody>\n",
              "</table>\n",
              "<p>500 rows × 9 columns</p>\n",
              "</div>"
            ],
            "text/plain": [
              "            Adj Close  price_change  movement        up      down        RSI  \\\n",
              "Date                                                                           \n",
              "2018-12-27  44.610001     -0.035455 -1.610001  0.000000 -1.610001  26.289795   \n",
              "2018-12-28  45.330002      0.016011  0.720001  0.720001  0.000000  32.072182   \n",
              "2018-12-31  45.410000      0.001763  0.079998  0.079998  0.000000  27.695169   \n",
              "2019-01-02  46.540001      0.024580  1.130001  1.130001  0.000000  35.759904   \n",
              "2019-01-03  47.090000      0.011748  0.549999  0.549999  0.000000  35.347041   \n",
              "...               ...           ...       ...       ...       ...        ...   \n",
              "2020-12-22  47.020000     -0.015197 -0.720001  0.000000 -0.720001  61.153869   \n",
              "2020-12-23  48.119999      0.023125  1.099998  1.099998  0.000000  64.519922   \n",
              "2020-12-28  47.619999     -0.010445 -0.500000  0.000000 -0.500000  58.076022   \n",
              "2020-12-29  48.000000      0.007948  0.380001  0.380001  0.000000  63.494000   \n",
              "2020-12-30  48.400002      0.008299  0.400002  0.400002  0.000000  66.393473   \n",
              "\n",
              "            long  gain_loss     total  \n",
              "Date                                   \n",
              "2018-12-27   1.0  -0.035455  0.192317  \n",
              "2018-12-28   1.0   0.016011  0.208328  \n",
              "2018-12-31   1.0   0.001763  0.210092  \n",
              "2019-01-02   1.0   0.024580  0.234671  \n",
              "2019-01-03   1.0   0.011748  0.246420  \n",
              "...          ...        ...       ...  \n",
              "2020-12-22   0.0  -0.000000  0.704502  \n",
              "2020-12-23   0.0   0.000000  0.704502  \n",
              "2020-12-28   0.0  -0.000000  0.704502  \n",
              "2020-12-29   0.0   0.000000  0.704502  \n",
              "2020-12-30   0.0   0.000000  0.704502  \n",
              "\n",
              "[500 rows x 9 columns]"
            ]
          },
          "metadata": {
            "tags": []
          },
          "execution_count": 105
        }
      ]
    },
    {
      "cell_type": "code",
      "metadata": {
        "colab": {
          "base_uri": "https://localhost:8080/"
        },
        "id": "4y6WVOHhqGz7",
        "outputId": "a09fd6a5-cd81-42ca-dd9d-4814e514a0d9"
      },
      "source": [
        "#alternative strategy of buying and hold stock:\n",
        "buy_hold_strat = (new_df['Adj Close'][-1] - new_df['Adj Close'][1]) / new_df['Adj Close'][1]\n",
        "print(buy_hold_strat)"
      ],
      "execution_count": 106,
      "outputs": [
        {
          "output_type": "stream",
          "text": [
            "-0.09986979516771437\n"
          ],
          "name": "stdout"
        }
      ]
    }
  ]
}